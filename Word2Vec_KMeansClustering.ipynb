{
  "nbformat": 4,
  "nbformat_minor": 0,
  "metadata": {
    "colab": {
      "provenance": [],
      "collapsed_sections": []
    },
    "kernelspec": {
      "name": "python3",
      "display_name": "Python 3"
    },
    "language_info": {
      "name": "python"
    }
  },
  "cells": [
    {
      "cell_type": "code",
      "execution_count": null,
      "metadata": {
        "id": "EQo03FZvkwsg"
      },
      "outputs": [],
      "source": [
        "from __future__ import print_function\n",
        "from google.colab import files \n",
        "\n",
        "import io\n",
        "import pandas as pd\n",
        "\n",
        "\n",
        "  \n",
        "#Code to upload the dataset from your computer as a dataframe\n",
        "df=pd.read_csv(\"/content/preprocessed_data.csv\")\n"
      ]
    },
    {
      "cell_type": "code",
      "source": [
        "df.head(10)"
      ],
      "metadata": {
        "colab": {
          "base_uri": "https://localhost:8080/",
          "height": 363
        },
        "id": "-3kABtehm87q",
        "outputId": "5759c75b-20c2-40ef-b248-7d439fa251f3"
      },
      "execution_count": null,
      "outputs": [
        {
          "output_type": "execute_result",
          "data": {
            "text/plain": [
              "   Unnamed: 0  Unnamed: 0.1                    product  \\\n",
              "0           0             0                  Strap top   \n",
              "1           1             1              Strap top (1)   \n",
              "2           2             2          OP T-shirt (Idro)   \n",
              "3           3             3        20 den 1p Stockings   \n",
              "4           4             4  Shape Up 30 den 1p Tights   \n",
              "5           5             5   Support 40 den 1p Tights   \n",
              "6           6             6          200 den 1p Tights   \n",
              "7           7             7             SWEATSHIRT  OC   \n",
              "8           8             8          Alice BANDEAU 2-p   \n",
              "9           9             9          Frugan longsleeve   \n",
              "\n",
              "                                                desc  product_id  \n",
              "0  solid jersey basic basic everyday woman should...           1  \n",
              "1  stripe jersey basic basic everyday woman shoul...           2  \n",
              "2  solid clean lingerie woman lingerie visible mi...           3  \n",
              "3  solid tights basic tigh sock nightwear woman w...           4  \n",
              "4  solid tights basic tigh sock nightwear woman a...           5  \n",
              "5  solid tights basic tigh sock nightwear woman e...           6  \n",
              "6  solid tights basic tigh sock nightwear woman m...           7  \n",
              "7  pattern basic baby complement essential baby p...           8  \n",
              "8  stripesolid casual lingerie woman lingerie top...           9  \n",
              "9  solid jersey basic basic everyday woman neckli...          10  "
            ],
            "text/html": [
              "\n",
              "  <div id=\"df-7c44874f-efe6-4453-a6f8-d03d76fff51e\">\n",
              "    <div class=\"colab-df-container\">\n",
              "      <div>\n",
              "<style scoped>\n",
              "    .dataframe tbody tr th:only-of-type {\n",
              "        vertical-align: middle;\n",
              "    }\n",
              "\n",
              "    .dataframe tbody tr th {\n",
              "        vertical-align: top;\n",
              "    }\n",
              "\n",
              "    .dataframe thead th {\n",
              "        text-align: right;\n",
              "    }\n",
              "</style>\n",
              "<table border=\"1\" class=\"dataframe\">\n",
              "  <thead>\n",
              "    <tr style=\"text-align: right;\">\n",
              "      <th></th>\n",
              "      <th>Unnamed: 0</th>\n",
              "      <th>Unnamed: 0.1</th>\n",
              "      <th>product</th>\n",
              "      <th>desc</th>\n",
              "      <th>product_id</th>\n",
              "    </tr>\n",
              "  </thead>\n",
              "  <tbody>\n",
              "    <tr>\n",
              "      <th>0</th>\n",
              "      <td>0</td>\n",
              "      <td>0</td>\n",
              "      <td>Strap top</td>\n",
              "      <td>solid jersey basic basic everyday woman should...</td>\n",
              "      <td>1</td>\n",
              "    </tr>\n",
              "    <tr>\n",
              "      <th>1</th>\n",
              "      <td>1</td>\n",
              "      <td>1</td>\n",
              "      <td>Strap top (1)</td>\n",
              "      <td>stripe jersey basic basic everyday woman shoul...</td>\n",
              "      <td>2</td>\n",
              "    </tr>\n",
              "    <tr>\n",
              "      <th>2</th>\n",
              "      <td>2</td>\n",
              "      <td>2</td>\n",
              "      <td>OP T-shirt (Idro)</td>\n",
              "      <td>solid clean lingerie woman lingerie visible mi...</td>\n",
              "      <td>3</td>\n",
              "    </tr>\n",
              "    <tr>\n",
              "      <th>3</th>\n",
              "      <td>3</td>\n",
              "      <td>3</td>\n",
              "      <td>20 den 1p Stockings</td>\n",
              "      <td>solid tights basic tigh sock nightwear woman w...</td>\n",
              "      <td>4</td>\n",
              "    </tr>\n",
              "    <tr>\n",
              "      <th>4</th>\n",
              "      <td>4</td>\n",
              "      <td>4</td>\n",
              "      <td>Shape Up 30 den 1p Tights</td>\n",
              "      <td>solid tights basic tigh sock nightwear woman a...</td>\n",
              "      <td>5</td>\n",
              "    </tr>\n",
              "    <tr>\n",
              "      <th>5</th>\n",
              "      <td>5</td>\n",
              "      <td>5</td>\n",
              "      <td>Support 40 den 1p Tights</td>\n",
              "      <td>solid tights basic tigh sock nightwear woman e...</td>\n",
              "      <td>6</td>\n",
              "    </tr>\n",
              "    <tr>\n",
              "      <th>6</th>\n",
              "      <td>6</td>\n",
              "      <td>6</td>\n",
              "      <td>200 den 1p Tights</td>\n",
              "      <td>solid tights basic tigh sock nightwear woman m...</td>\n",
              "      <td>7</td>\n",
              "    </tr>\n",
              "    <tr>\n",
              "      <th>7</th>\n",
              "      <td>7</td>\n",
              "      <td>7</td>\n",
              "      <td>SWEATSHIRT  OC</td>\n",
              "      <td>pattern basic baby complement essential baby p...</td>\n",
              "      <td>8</td>\n",
              "    </tr>\n",
              "    <tr>\n",
              "      <th>8</th>\n",
              "      <td>8</td>\n",
              "      <td>8</td>\n",
              "      <td>Alice BANDEAU 2-p</td>\n",
              "      <td>stripesolid casual lingerie woman lingerie top...</td>\n",
              "      <td>9</td>\n",
              "    </tr>\n",
              "    <tr>\n",
              "      <th>9</th>\n",
              "      <td>9</td>\n",
              "      <td>9</td>\n",
              "      <td>Frugan longsleeve</td>\n",
              "      <td>solid jersey basic basic everyday woman neckli...</td>\n",
              "      <td>10</td>\n",
              "    </tr>\n",
              "  </tbody>\n",
              "</table>\n",
              "</div>\n",
              "      <button class=\"colab-df-convert\" onclick=\"convertToInteractive('df-7c44874f-efe6-4453-a6f8-d03d76fff51e')\"\n",
              "              title=\"Convert this dataframe to an interactive table.\"\n",
              "              style=\"display:none;\">\n",
              "        \n",
              "  <svg xmlns=\"http://www.w3.org/2000/svg\" height=\"24px\"viewBox=\"0 0 24 24\"\n",
              "       width=\"24px\">\n",
              "    <path d=\"M0 0h24v24H0V0z\" fill=\"none\"/>\n",
              "    <path d=\"M18.56 5.44l.94 2.06.94-2.06 2.06-.94-2.06-.94-.94-2.06-.94 2.06-2.06.94zm-11 1L8.5 8.5l.94-2.06 2.06-.94-2.06-.94L8.5 2.5l-.94 2.06-2.06.94zm10 10l.94 2.06.94-2.06 2.06-.94-2.06-.94-.94-2.06-.94 2.06-2.06.94z\"/><path d=\"M17.41 7.96l-1.37-1.37c-.4-.4-.92-.59-1.43-.59-.52 0-1.04.2-1.43.59L10.3 9.45l-7.72 7.72c-.78.78-.78 2.05 0 2.83L4 21.41c.39.39.9.59 1.41.59.51 0 1.02-.2 1.41-.59l7.78-7.78 2.81-2.81c.8-.78.8-2.07 0-2.86zM5.41 20L4 18.59l7.72-7.72 1.47 1.35L5.41 20z\"/>\n",
              "  </svg>\n",
              "      </button>\n",
              "      \n",
              "  <style>\n",
              "    .colab-df-container {\n",
              "      display:flex;\n",
              "      flex-wrap:wrap;\n",
              "      gap: 12px;\n",
              "    }\n",
              "\n",
              "    .colab-df-convert {\n",
              "      background-color: #E8F0FE;\n",
              "      border: none;\n",
              "      border-radius: 50%;\n",
              "      cursor: pointer;\n",
              "      display: none;\n",
              "      fill: #1967D2;\n",
              "      height: 32px;\n",
              "      padding: 0 0 0 0;\n",
              "      width: 32px;\n",
              "    }\n",
              "\n",
              "    .colab-df-convert:hover {\n",
              "      background-color: #E2EBFA;\n",
              "      box-shadow: 0px 1px 2px rgba(60, 64, 67, 0.3), 0px 1px 3px 1px rgba(60, 64, 67, 0.15);\n",
              "      fill: #174EA6;\n",
              "    }\n",
              "\n",
              "    [theme=dark] .colab-df-convert {\n",
              "      background-color: #3B4455;\n",
              "      fill: #D2E3FC;\n",
              "    }\n",
              "\n",
              "    [theme=dark] .colab-df-convert:hover {\n",
              "      background-color: #434B5C;\n",
              "      box-shadow: 0px 1px 3px 1px rgba(0, 0, 0, 0.15);\n",
              "      filter: drop-shadow(0px 1px 2px rgba(0, 0, 0, 0.3));\n",
              "      fill: #FFFFFF;\n",
              "    }\n",
              "  </style>\n",
              "\n",
              "      <script>\n",
              "        const buttonEl =\n",
              "          document.querySelector('#df-7c44874f-efe6-4453-a6f8-d03d76fff51e button.colab-df-convert');\n",
              "        buttonEl.style.display =\n",
              "          google.colab.kernel.accessAllowed ? 'block' : 'none';\n",
              "\n",
              "        async function convertToInteractive(key) {\n",
              "          const element = document.querySelector('#df-7c44874f-efe6-4453-a6f8-d03d76fff51e');\n",
              "          const dataTable =\n",
              "            await google.colab.kernel.invokeFunction('convertToInteractive',\n",
              "                                                     [key], {});\n",
              "          if (!dataTable) return;\n",
              "\n",
              "          const docLinkHtml = 'Like what you see? Visit the ' +\n",
              "            '<a target=\"_blank\" href=https://colab.research.google.com/notebooks/data_table.ipynb>data table notebook</a>'\n",
              "            + ' to learn more about interactive tables.';\n",
              "          element.innerHTML = '';\n",
              "          dataTable['output_type'] = 'display_data';\n",
              "          await google.colab.output.renderOutput(dataTable, element);\n",
              "          const docLink = document.createElement('div');\n",
              "          docLink.innerHTML = docLinkHtml;\n",
              "          element.appendChild(docLink);\n",
              "        }\n",
              "      </script>\n",
              "    </div>\n",
              "  </div>\n",
              "  "
            ]
          },
          "metadata": {},
          "execution_count": 2
        }
      ]
    },
    {
      "cell_type": "code",
      "source": [
        "#Perform Word Embedding\n",
        "from gensim.test.utils import datapath, get_tmpfile\n",
        "from gensim.models import KeyedVectors\n",
        "from gensim.scripts.glove2word2vec import glove2word2vec"
      ],
      "metadata": {
        "id": "qfTlf_mbDJur"
      },
      "execution_count": null,
      "outputs": []
    },
    {
      "cell_type": "code",
      "source": [
        "!wget https://drive.google.com/file/d/0B7XkCwpI5KDYNlNUTTlSS21pQmM/edit?resourcekey=0-wjGZdNAUop6WykTtMip30g -O GoogleGoogleNews-vectors-negative300.bin"
      ],
      "metadata": {
        "colab": {
          "base_uri": "https://localhost:8080/"
        },
        "id": "zmQIHcVnZ62r",
        "outputId": "7baba5dc-76c5-4a87-fa1e-f7e098bdc21f"
      },
      "execution_count": null,
      "outputs": [
        {
          "output_type": "stream",
          "name": "stdout",
          "text": [
            "--2022-10-21 14:12:39--  https://drive.google.com/file/d/0B7XkCwpI5KDYNlNUTTlSS21pQmM/edit?resourcekey=0-wjGZdNAUop6WykTtMip30g\n",
            "Resolving drive.google.com (drive.google.com)... 74.125.142.101, 74.125.142.113, 74.125.142.100, ...\n",
            "Connecting to drive.google.com (drive.google.com)|74.125.142.101|:443... connected.\n",
            "HTTP request sent, awaiting response... 200 OK\n",
            "Length: unspecified [text/html]\n",
            "Saving to: ‘GoogleGoogleNews-vectors-negative300.bin’\n",
            "\n",
            "GoogleGoogleNews-ve     [ <=>                ]  66.61K  --.-KB/s    in 0.03s   \n",
            "\n",
            "2022-10-21 14:12:40 (2.32 MB/s) - ‘GoogleGoogleNews-vectors-negative300.bin’ saved [68207]\n",
            "\n"
          ]
        }
      ]
    },
    {
      "cell_type": "code",
      "source": [
        "!unzip archive.zip"
      ],
      "metadata": {
        "colab": {
          "base_uri": "https://localhost:8080/"
        },
        "id": "-kLnU1oOdLe8",
        "outputId": "532b9e10-f9ec-45ed-9bed-77cfd15e3e68"
      },
      "execution_count": null,
      "outputs": [
        {
          "output_type": "stream",
          "name": "stdout",
          "text": [
            "Archive:  archive.zip\n",
            "  inflating: glove.6B.100d.txt       \n"
          ]
        }
      ]
    },
    {
      "cell_type": "code",
      "source": [
        "\n",
        "import os\n",
        "# Global parameters\n",
        "#root folder\n",
        "root_folder='.'\n",
        "data_folder_name='data'\n",
        "glove_filename='glove.6B.100d.txt'\n",
        "\n",
        "\n",
        "# Variable for data directory\n",
        "DATA_PATH = os.path.abspath(os.path.join(root_folder, data_folder_name))\n",
        "glove_path = \"/content/glove.6B.100d.txt\"\n"
      ],
      "metadata": {
        "id": "TN_TcHhqc8GT"
      },
      "execution_count": null,
      "outputs": []
    },
    {
      "cell_type": "code",
      "source": [
        "# glove2word2vec saves the Glove embeddings in the word2vec format \n",
        "from gensim.scripts.glove2word2vec import glove2word2vec\n",
        "word2vec_output_file = glove_filename+'.word2vec'\n",
        "glove2word2vec(glove_path, word2vec_output_file)"
      ],
      "metadata": {
        "colab": {
          "base_uri": "https://localhost:8080/"
        },
        "id": "TyqELtw5cSHf",
        "outputId": "2ff7b460-2e14-4796-eb5a-a15fc03c1f95"
      },
      "execution_count": null,
      "outputs": [
        {
          "output_type": "execute_result",
          "data": {
            "text/plain": [
              "(400000, 100)"
            ]
          },
          "metadata": {},
          "execution_count": 7
        }
      ]
    },
    {
      "cell_type": "code",
      "source": [
        "from gensim.models import KeyedVectors\n",
        "# load the Stanford GloVe model\n",
        "word2vec_output_file = glove_filename+'.word2vec'\n",
        "model = KeyedVectors.load_word2vec_format(word2vec_output_file, binary=False)\n"
      ],
      "metadata": {
        "id": "hNrXbyGEeXvT"
      },
      "execution_count": null,
      "outputs": []
    },
    {
      "cell_type": "code",
      "source": [
        "d_arr = df['desc'].to_numpy()\n",
        "print(d_arr)\n"
      ],
      "metadata": {
        "colab": {
          "base_uri": "https://localhost:8080/"
        },
        "id": "haR3eH96jfcO",
        "outputId": "fe28c903-e387-4f74-ccea-fcda672e77e0"
      },
      "execution_count": null,
      "outputs": [
        {
          "output_type": "stream",
          "name": "stdout",
          "text": [
            "['solid jersey basic basic everyday woman shoulder top jersey strap narrow'\n",
            " 'stripe jersey basic basic everyday woman shoulder top jersey strap narrow'\n",
            " 'solid clean lingerie woman lingerie visible microfibre back padded comfort good support without bra hookandeye cup fastening shoulder seam provide bust greater lightly moulded tshirt underwired shape strap narrow adjustable'\n",
            " ...\n",
            " 'solidmelangestructure jersey basic light men underwear elasticated drawstring pocket waist seam short cotton side piqué discreet'\n",
            " 'solid jersey basic light men underwear sturdy roundnecked tshirt cotton jersey'\n",
            " 'melangestripesolid jerseyjersey basic light men underwear sturdy roundnecked tshirt cotton jersey']\n"
          ]
        }
      ]
    },
    {
      "cell_type": "code",
      "source": [
        "#Maximum length of the vectors\n",
        "final_vector =  {}\n",
        "m = 0\n",
        "for i in range (0,10000):\n",
        "\n",
        "  word_vec = []\n",
        "  for w in d_arr[i].split(\" \"):\n",
        "    try:\n",
        "      word_vec.append(sum(model.get_vector(w))/100)\n",
        "    except:\n",
        "      pass\n",
        "  if m < len(word_vec):\n",
        "    m = len(word_vec)\n",
        "  final_vector[df['product'][i]] = word_vec\n",
        "print(m)"
      ],
      "metadata": {
        "colab": {
          "base_uri": "https://localhost:8080/"
        },
        "id": "xyjB8VPIkbKY",
        "outputId": "e67e5060-b2ef-4cf3-d3ae-625fff557ceb"
      },
      "execution_count": null,
      "outputs": [
        {
          "output_type": "stream",
          "name": "stdout",
          "text": [
            "67\n"
          ]
        }
      ]
    },
    {
      "cell_type": "code",
      "source": [
        "#Zero-padding of vectors\n",
        "for key in final_vector.keys():\n",
        "  if len(final_vector[key]) < m:\n",
        "    r = m - len(final_vector[key])\n",
        "    l = [0 for i in range(r)]\n",
        "    final_vector[key].extend(l)"
      ],
      "metadata": {
        "id": "ZHrgiuN_JaTY"
      },
      "execution_count": null,
      "outputs": []
    },
    {
      "cell_type": "code",
      "source": [
        "# make the matrix with the words\n",
        "words = final_vector.keys()\n",
        "X = []\n",
        "for w in words:\n",
        "    X.append(final_vector[w])\n",
        "\n",
        "from sklearn import cluster\n",
        "from sklearn import metrics\n",
        "kmeans = cluster.KMeans(n_clusters=500)\n",
        "kmeans.fit(X)\n",
        "print(kmeans)\n",
        " \n",
        "labels = kmeans.labels_\n",
        "centroids = kmeans.cluster_centers_\n",
        " \n",
        "print (\"Cluster id labels for input data\")\n",
        "print (labels)\n",
        "print (\"Centroids data\")\n",
        "print (centroids)"
      ],
      "metadata": {
        "colab": {
          "base_uri": "https://localhost:8080/"
        },
        "id": "kq-SzH6-Jsce",
        "outputId": "b17a6836-f39c-477d-dc71-43e2e6ea7160"
      },
      "execution_count": null,
      "outputs": [
        {
          "output_type": "stream",
          "name": "stdout",
          "text": [
            "KMeans(n_clusters=500)\n",
            "Cluster id labels for input data\n",
            "[455 455 385 ...  60  58  72]\n",
            "Centroids data\n",
            "[[ 7.21139180e-03  4.40157635e-02 -1.06072633e-02 ... -8.47032947e-22\n",
            "   0.00000000e+00 -2.11758237e-22]\n",
            " [ 2.70615277e-02  5.01252282e-02  6.03179212e-02 ... -8.47032947e-22\n",
            "   0.00000000e+00 -2.11758237e-22]\n",
            " [ 1.38760970e-02 -2.06191902e-02  2.62018844e-02 ... -8.47032947e-22\n",
            "   8.47032947e-22  0.00000000e+00]\n",
            " ...\n",
            " [ 2.20414948e-02 -4.20187521e-02  7.27292312e-02 ...  0.00000000e+00\n",
            "   0.00000000e+00  0.00000000e+00]\n",
            " [ 1.14648466e-02  2.78259793e-02  4.25330905e-02 ...  0.00000000e+00\n",
            "   0.00000000e+00 -2.11758237e-22]\n",
            " [ 1.08234348e-02 -6.10507708e-02 -3.85645672e-02 ... -8.47032947e-22\n",
            "   8.47032947e-22  0.00000000e+00]]\n"
          ]
        }
      ]
    },
    {
      "cell_type": "code",
      "source": [
        "import numpy as np\n",
        "\n",
        "print(np.array(X).shape)\n"
      ],
      "metadata": {
        "colab": {
          "base_uri": "https://localhost:8080/"
        },
        "id": "D1-CCkKLx9_Z",
        "outputId": "3a6aa690-df23-4ae2-c29d-13d410c0d4ee"
      },
      "execution_count": null,
      "outputs": [
        {
          "output_type": "stream",
          "name": "stdout",
          "text": [
            "(10000, 67)\n"
          ]
        }
      ]
    },
    {
      "cell_type": "code",
      "source": [
        "#Find the cluster with least distance with the query vector\n",
        "import numpy as np\n",
        "from sklearn.metrics.pairwise import cosine_similarity\n",
        "query =\"Strap top\"\n",
        "v = np.array([final_vector[query]])\n",
        "dist = 10000\n",
        "for i in range(len(centroids)):\n",
        "  d = cosine_similarity(v,[centroids[i]])\n",
        "  if dist > d:\n",
        "    \n",
        "    dist = d\n",
        "    label = labels[i]\n",
        "\n",
        "\n",
        "\n"
      ],
      "metadata": {
        "id": "de9p2cr8HH5U"
      },
      "execution_count": null,
      "outputs": []
    },
    {
      "cell_type": "code",
      "source": [
        "label"
      ],
      "metadata": {
        "colab": {
          "base_uri": "https://localhost:8080/"
        },
        "id": "Y9sDx_vdHH_k",
        "outputId": "ee5a67be-aa89-4600-b770-907001c274a2"
      },
      "execution_count": null,
      "outputs": [
        {
          "output_type": "execute_result",
          "data": {
            "text/plain": [
              "369"
            ]
          },
          "metadata": {},
          "execution_count": 16
        }
      ]
    },
    {
      "cell_type": "code",
      "source": [
        "#Getting the items present in the cluster.\n",
        "ref = { i:X[i] for i in list(np.where(labels ==label)[0]) }\n",
        "reff=[]\n",
        "reff_key =[]\n",
        "reff_key = list(ref.keys())\n",
        "reff = list(ref.values())"
      ],
      "metadata": {
        "id": "6ThBGmwzy8Lx"
      },
      "execution_count": null,
      "outputs": []
    },
    {
      "cell_type": "code",
      "source": [
        "#distance between the query and the items present within the cluster\n",
        "dist_list=[]\n",
        "index_id =[]\n",
        "v = np.array([final_vector[query]])\n",
        "for i in range(len(reff)):\n",
        "  d = cosine_similarity(v,[reff[i]])\n",
        "  dist_list.append(list(d))\n",
        "  index_id.append(reff_key[i])\n",
        "  "
      ],
      "metadata": {
        "id": "Ao0C_F2vNrvT"
      },
      "execution_count": null,
      "outputs": []
    },
    {
      "cell_type": "code",
      "source": [
        "length = len(dist_list)"
      ],
      "metadata": {
        "id": "dyk4QgKLfYoP"
      },
      "execution_count": null,
      "outputs": []
    },
    {
      "cell_type": "code",
      "source": [
        "length"
      ],
      "metadata": {
        "colab": {
          "base_uri": "https://localhost:8080/"
        },
        "id": "JDF1Fi4SgLhf",
        "outputId": "840703fe-09e2-41ed-9d60-810ee4f53573"
      },
      "execution_count": null,
      "outputs": [
        {
          "output_type": "execute_result",
          "data": {
            "text/plain": [
              "19"
            ]
          },
          "metadata": {},
          "execution_count": 20
        }
      ]
    },
    {
      "cell_type": "code",
      "source": [
        "index_id"
      ],
      "metadata": {
        "colab": {
          "base_uri": "https://localhost:8080/"
        },
        "id": "-JT4eqbthe7K",
        "outputId": "6e5ac271-ad5a-43e4-b64e-83533f3e9268"
      },
      "execution_count": null,
      "outputs": [
        {
          "output_type": "execute_result",
          "data": {
            "text/plain": [
              "[25,\n",
              " 148,\n",
              " 995,\n",
              " 1597,\n",
              " 1648,\n",
              " 1728,\n",
              " 1729,\n",
              " 2476,\n",
              " 2827,\n",
              " 3049,\n",
              " 3319,\n",
              " 4047,\n",
              " 4382,\n",
              " 4938,\n",
              " 5990,\n",
              " 6176,\n",
              " 7439,\n",
              " 8710,\n",
              " 9296]"
            ]
          },
          "metadata": {},
          "execution_count": 21
        }
      ]
    },
    {
      "cell_type": "code",
      "source": [
        "print(dist_list)"
      ],
      "metadata": {
        "colab": {
          "base_uri": "https://localhost:8080/"
        },
        "id": "6nLwQYeiNsqa",
        "outputId": "ac11768c-8e92-47bd-a504-e849ececc5cb"
      },
      "execution_count": null,
      "outputs": [
        {
          "output_type": "stream",
          "name": "stdout",
          "text": [
            "[[array([0.18663209])], [array([0.08893923])], [array([0.20763201])], [array([0.42633919])], [array([0.17032905])], [array([0.03988385])], [array([0.05892014])], [array([0.01521287])], [array([-0.03741408])], [array([-0.05125366])], [array([0.15209587])], [array([0.1363246])], [array([0.07749531])], [array([0.23781763])], [array([0.31858244])], [array([0.0621184])], [array([0.13549363])], [array([0.31858244])], [array([0.22096158])]]\n"
          ]
        }
      ]
    },
    {
      "cell_type": "code",
      "source": [
        "#Dictionary for index and respective difference of distance.\n",
        "dictionary_list ={}\n",
        "for i in range(len(dist_list)):\n",
        "  dictionary_list[index_id[i]] =  dist_list[i]\n",
        "\n"
      ],
      "metadata": {
        "id": "grkUlbVWifg_"
      },
      "execution_count": null,
      "outputs": []
    },
    {
      "cell_type": "code",
      "source": [
        "dictionary_list"
      ],
      "metadata": {
        "colab": {
          "base_uri": "https://localhost:8080/"
        },
        "id": "7hkDb_b4kKbX",
        "outputId": "97658154-3c5a-41ca-b106-e8d620d9cf15"
      },
      "execution_count": null,
      "outputs": [
        {
          "output_type": "execute_result",
          "data": {
            "text/plain": [
              "{25: [array([0.18663209])],\n",
              " 148: [array([0.08893923])],\n",
              " 995: [array([0.20763201])],\n",
              " 1597: [array([0.42633919])],\n",
              " 1648: [array([0.17032905])],\n",
              " 1728: [array([0.03988385])],\n",
              " 1729: [array([0.05892014])],\n",
              " 2476: [array([0.01521287])],\n",
              " 2827: [array([-0.03741408])],\n",
              " 3049: [array([-0.05125366])],\n",
              " 3319: [array([0.15209587])],\n",
              " 4047: [array([0.1363246])],\n",
              " 4382: [array([0.07749531])],\n",
              " 4938: [array([0.23781763])],\n",
              " 5990: [array([0.31858244])],\n",
              " 6176: [array([0.0621184])],\n",
              " 7439: [array([0.13549363])],\n",
              " 8710: [array([0.31858244])],\n",
              " 9296: [array([0.22096158])]}"
            ]
          },
          "metadata": {},
          "execution_count": 24
        }
      ]
    },
    {
      "cell_type": "code",
      "source": [
        "#Sorting in ascending order of distance value\n",
        "dist_list.sort"
      ],
      "metadata": {
        "colab": {
          "base_uri": "https://localhost:8080/"
        },
        "id": "0xI1tPhGxAVb",
        "outputId": "7c5de1fc-9558-45c2-cbcc-147bcc2a6ff1"
      },
      "execution_count": null,
      "outputs": [
        {
          "output_type": "execute_result",
          "data": {
            "text/plain": [
              "<function list.sort(*, key=None, reverse=False)>"
            ]
          },
          "metadata": {},
          "execution_count": 25
        }
      ]
    },
    {
      "cell_type": "code",
      "source": [
        "#Top 5 vectors with least difference wrt distance\n",
        "min_five_dist =[]\n",
        "for i in range(0,5):\n",
        "  min_five_dist.append(dist_list[i])\n",
        "  "
      ],
      "metadata": {
        "id": "DSnZ6m0INpy7"
      },
      "execution_count": null,
      "outputs": []
    },
    {
      "cell_type": "code",
      "source": [
        "min_five_dist"
      ],
      "metadata": {
        "colab": {
          "base_uri": "https://localhost:8080/"
        },
        "id": "uHtbWLCWhDJa",
        "outputId": "f498f88e-70da-41b3-d9a7-4d8cac067c5c"
      },
      "execution_count": null,
      "outputs": [
        {
          "output_type": "execute_result",
          "data": {
            "text/plain": [
              "[[array([0.18663209])],\n",
              " [array([0.08893923])],\n",
              " [array([0.20763201])],\n",
              " [array([0.42633919])],\n",
              " [array([0.17032905])]]"
            ]
          },
          "metadata": {},
          "execution_count": 27
        }
      ]
    },
    {
      "cell_type": "code",
      "source": [
        "#Product id of the vectors\n",
        "top_five_index = [key for key,val in dictionary_list.items() if val in min_five_dist[0:len(min_five_dist)]]\n",
        "top_five_index"
      ],
      "metadata": {
        "colab": {
          "base_uri": "https://localhost:8080/"
        },
        "id": "yv3QygjJn6S6",
        "outputId": "5af933d8-230d-4b69-b5e4-fe0d417c0c74"
      },
      "execution_count": null,
      "outputs": [
        {
          "output_type": "execute_result",
          "data": {
            "text/plain": [
              "[25, 148, 995, 1597, 1648]"
            ]
          },
          "metadata": {},
          "execution_count": 28
        }
      ]
    },
    {
      "cell_type": "code",
      "source": [
        "#Product names based on similarity\n",
        "product_list =[]\n",
        "for i in range(len(top_five_index)):\n",
        "  product_list.append(df[df['product_id'] == top_five_index[i]]['product'].values[0])"
      ],
      "metadata": {
        "id": "b94780BAyNQD"
      },
      "execution_count": null,
      "outputs": []
    },
    {
      "cell_type": "code",
      "source": [
        "print(product_list)"
      ],
      "metadata": {
        "colab": {
          "base_uri": "https://localhost:8080/"
        },
        "id": "XYx1FOhTzf8f",
        "outputId": "d269be77-2e3d-471f-e836-d32650afc729"
      },
      "execution_count": null,
      "outputs": [
        {
          "output_type": "stream",
          "name": "stdout",
          "text": [
            "['Nouvelle 1p Stay Up', 'Fix it tote bag', 'George Beanie', 'Priscilla price t-shirt', 'ALBIN basic rib l/s 2p SB']\n"
          ]
        }
      ]
    }
  ]
}