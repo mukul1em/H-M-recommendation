{
  "nbformat": 4,
  "nbformat_minor": 0,
  "metadata": {
    "colab": {
      "private_outputs": true,
      "provenance": [],
      "collapsed_sections": []
    },
    "kernelspec": {
      "name": "python3",
      "display_name": "Python 3"
    },
    "language_info": {
      "name": "python"
    }
  },
  "cells": [
    {
      "cell_type": "code",
      "execution_count": null,
      "metadata": {
        "id": "bfWjj9mcdXql"
      },
      "outputs": [],
      "source": [
        "from __future__ import print_function\n",
        "from google.colab import files \n",
        "import io\n",
        "import pandas as pd \n",
        "data=pd.read_csv(\"/content/articles.csv\")\n"
      ]
    },
    {
      "cell_type": "code",
      "source": [
        "data.head()"
      ],
      "metadata": {
        "id": "pXkUbKOIdoQd"
      },
      "execution_count": null,
      "outputs": []
    },
    {
      "cell_type": "code",
      "source": [
        "data.columns"
      ],
      "metadata": {
        "id": "m_PBvjEGdtPm"
      },
      "execution_count": null,
      "outputs": []
    },
    {
      "cell_type": "code",
      "source": [
        "data.head()"
      ],
      "metadata": {
        "id": "-6JRcGZQh8W0"
      },
      "execution_count": null,
      "outputs": []
    },
    {
      "cell_type": "code",
      "source": [
        "#remove number,punctuations, lowercasing\n",
        "data['graphical_appearance_name'] = data['graphical_appearance_name'].str.replace('[^\\w\\s]','').str.lower()\n",
        "data['detail_desc'] = data['detail_desc'].str.replace('[^\\w\\s\\d+\\f]','').str.lower()\n",
        "data['department_name'] = data['department_name'].str.replace('[^\\w\\s\\d+]','').str.lower()\n",
        "data['section_name'] = data['section_name'].str.replace('[^\\w\\s\\d+]','').str.lower()"
      ],
      "metadata": {
        "id": "TZZzoIh9QjS5"
      },
      "execution_count": null,
      "outputs": []
    },
    {
      "cell_type": "code",
      "source": [
        "data = data.dropna()"
      ],
      "metadata": {
        "id": "jbFmELpgEfch"
      },
      "execution_count": null,
      "outputs": []
    },
    {
      "cell_type": "code",
      "source": [
        "#remove stopwords\n",
        "import nltk\n",
        "nltk.download('stopwords')\n",
        "from nltk.corpus import stopwords\n",
        "stopwords = set(stopwords.words('english'))\n"
      ],
      "metadata": {
        "id": "u2OdjPDbT-di"
      },
      "execution_count": null,
      "outputs": []
    },
    {
      "cell_type": "code",
      "source": [
        "data['graphical_appearance_name'] = data['graphical_appearance_name'].apply(lambda x: ' '.join([word for word in x.split() if word not in (stopwords)]))\n",
        "data['detail_desc'] = data['detail_desc'].apply(lambda x: ' '.join([word for word in x.split() if word not in (stopwords)]))\n",
        "data['department_name'] = data['department_name'].apply(lambda x: ' '.join([word for word in x.split() if word not in (stopwords)]))\n",
        "data['section_name'] = data['section_name'].apply(lambda x: ' '.join([word for word in x.split() if word not in (stopwords)]))\n"
      ],
      "metadata": {
        "id": "pDWMMOpBUd_y"
      },
      "execution_count": null,
      "outputs": []
    },
    {
      "cell_type": "code",
      "source": [],
      "metadata": {
        "id": "cFFT0YUeFCui"
      },
      "execution_count": null,
      "outputs": []
    },
    {
      "cell_type": "code",
      "source": [
        "datadragon = data[data.prod_name=='Dragonfly dress']\n",
        "datadragon\n",
        "#columns = product_type, department name, garment_group_name, , \n",
        "combine_columns  = [\"graphical_appearance_name\", \"department_name\", \"section_name\", \"detail_desc\"]"
      ],
      "metadata": {
        "id": "II2PV7-8gJ2U"
      },
      "execution_count": null,
      "outputs": []
    },
    {
      "cell_type": "code",
      "source": [
        "\" \".join(list(set(datadragon[\"detail_desc\"].unique().sum().split(' '))))"
      ],
      "metadata": {
        "id": "ereTGHFyI_Pt"
      },
      "execution_count": null,
      "outputs": []
    },
    {
      "cell_type": "code",
      "source": [
        "from pandas.compat import pa_version_under1p0\n",
        "datanew = pd.DataFrame()\n",
        "prod_list = {}\n",
        "for prod in data.prod_name:\n",
        "  col_list = []\n",
        "  dataprod = data[data.prod_name==prod]\n",
        "  for col in combine_columns:\n",
        "    try:\n",
        "      col_list.append(\" \".join(list(set(dataprod[col].unique().sum().split(' ')))))\n",
        "    except:\n",
        "      print(\"error\")\n",
        "  prod_list[prod] = col_list"
      ],
      "metadata": {
        "id": "SB4E3VqMhFH-"
      },
      "execution_count": null,
      "outputs": []
    },
    {
      "cell_type": "code",
      "source": [
        "final_prod = {}\n",
        "for key in prod_list.keys():\n",
        "  final_prod[key] = \" \".join(prod_list[key])\n"
      ],
      "metadata": {
        "id": "Pi5Qjj7YTrjI"
      },
      "execution_count": null,
      "outputs": []
    },
    {
      "cell_type": "code",
      "source": [
        "df = pd.DataFrame.from_dict(final_prod, orient=\"index\").reset_index()\n",
        "df.columns = [\"product\", \"desc\"]\n",
        "df.head()"
      ],
      "metadata": {
        "id": "bubrDbslUlyf"
      },
      "execution_count": null,
      "outputs": []
    },
    {
      "cell_type": "code",
      "source": [
        "df[\"product_id\"] = [i+1 for i in range(df.shape[0])]"
      ],
      "metadata": {
        "id": "AYA7Qw-aWYzT"
      },
      "execution_count": null,
      "outputs": []
    },
    {
      "cell_type": "code",
      "source": [
        "df.to_csv('final_df.csv')"
      ],
      "metadata": {
        "id": "ignIKbtxVcbT"
      },
      "execution_count": null,
      "outputs": []
    }
  ]
}