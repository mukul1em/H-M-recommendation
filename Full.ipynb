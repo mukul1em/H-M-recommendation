{
  "nbformat": 4,
  "nbformat_minor": 0,
  "metadata": {
    "colab": {
      "provenance": [],
      "collapsed_sections": []
    },
    "kernelspec": {
      "name": "python3",
      "display_name": "Python 3"
    },
    "language_info": {
      "name": "python"
    }
  },
  "cells": [
    {
      "cell_type": "markdown",
      "source": [
        "# 1. Pre- processing"
      ],
      "metadata": {
        "id": "BgVICnTY2mCK"
      }
    },
    {
      "cell_type": "code",
      "execution_count": null,
      "metadata": {
        "id": "Wdo1F14QX34z"
      },
      "outputs": [],
      "source": [
        "from __future__ import print_function\n",
        "from google.colab import files \n",
        "\n",
        "import io\n",
        "import pandas as pd\n",
        "\n",
        "\n",
        "  \n",
        "#Code to upload the dataset from your computer as a dataframe\n",
        "df=pd.read_csv(\"/content/final_df.csv\")\n"
      ]
    },
    {
      "cell_type": "code",
      "source": [
        "#Code to take first 10,000 instances of the dataset.\n",
        "df = df.iloc[:10000, :]\n",
        "df.shape"
      ],
      "metadata": {
        "colab": {
          "base_uri": "https://localhost:8080/"
        },
        "id": "cRnUTQPIo-Zj",
        "outputId": "b19fd743-c29c-4686-f69c-757465a1b772"
      },
      "execution_count": null,
      "outputs": [
        {
          "output_type": "execute_result",
          "data": {
            "text/plain": [
              "(10000, 4)"
            ]
          },
          "metadata": {},
          "execution_count": 2
        }
      ]
    },
    {
      "cell_type": "code",
      "source": [
        "df.head()"
      ],
      "metadata": {
        "colab": {
          "base_uri": "https://localhost:8080/",
          "height": 206
        },
        "id": "5Eqd1OKjosCM",
        "outputId": "34fdc60e-5ceb-45a6-dc54-099ff3bb53d5"
      },
      "execution_count": null,
      "outputs": [
        {
          "output_type": "execute_result",
          "data": {
            "text/plain": [
              "   Unnamed: 0                    product  \\\n",
              "0           0                  Strap top   \n",
              "1           1              Strap top (1)   \n",
              "2           2          OP T-shirt (Idro)   \n",
              "3           3        20 den 1p Stockings   \n",
              "4           4  Shape Up 30 den 1p Tights   \n",
              "\n",
              "                                                desc  product_id  \n",
              "0  solid jersey basic basics everyday womens shou...           1  \n",
              "1  stripe jersey basic basics everyday womens sho...           2  \n",
              "2  solid clean lingerie womens lingerie visible m...           3  \n",
              "3  solid tights basic tigh socks nightwear womens...           4  \n",
              "4  solid tights basic tigh socks nightwear womens...           5  "
            ],
            "text/html": [
              "\n",
              "  <div id=\"df-3a24b368-8d0c-49be-b37e-0fbd6278c18a\">\n",
              "    <div class=\"colab-df-container\">\n",
              "      <div>\n",
              "<style scoped>\n",
              "    .dataframe tbody tr th:only-of-type {\n",
              "        vertical-align: middle;\n",
              "    }\n",
              "\n",
              "    .dataframe tbody tr th {\n",
              "        vertical-align: top;\n",
              "    }\n",
              "\n",
              "    .dataframe thead th {\n",
              "        text-align: right;\n",
              "    }\n",
              "</style>\n",
              "<table border=\"1\" class=\"dataframe\">\n",
              "  <thead>\n",
              "    <tr style=\"text-align: right;\">\n",
              "      <th></th>\n",
              "      <th>Unnamed: 0</th>\n",
              "      <th>product</th>\n",
              "      <th>desc</th>\n",
              "      <th>product_id</th>\n",
              "    </tr>\n",
              "  </thead>\n",
              "  <tbody>\n",
              "    <tr>\n",
              "      <th>0</th>\n",
              "      <td>0</td>\n",
              "      <td>Strap top</td>\n",
              "      <td>solid jersey basic basics everyday womens shou...</td>\n",
              "      <td>1</td>\n",
              "    </tr>\n",
              "    <tr>\n",
              "      <th>1</th>\n",
              "      <td>1</td>\n",
              "      <td>Strap top (1)</td>\n",
              "      <td>stripe jersey basic basics everyday womens sho...</td>\n",
              "      <td>2</td>\n",
              "    </tr>\n",
              "    <tr>\n",
              "      <th>2</th>\n",
              "      <td>2</td>\n",
              "      <td>OP T-shirt (Idro)</td>\n",
              "      <td>solid clean lingerie womens lingerie visible m...</td>\n",
              "      <td>3</td>\n",
              "    </tr>\n",
              "    <tr>\n",
              "      <th>3</th>\n",
              "      <td>3</td>\n",
              "      <td>20 den 1p Stockings</td>\n",
              "      <td>solid tights basic tigh socks nightwear womens...</td>\n",
              "      <td>4</td>\n",
              "    </tr>\n",
              "    <tr>\n",
              "      <th>4</th>\n",
              "      <td>4</td>\n",
              "      <td>Shape Up 30 den 1p Tights</td>\n",
              "      <td>solid tights basic tigh socks nightwear womens...</td>\n",
              "      <td>5</td>\n",
              "    </tr>\n",
              "  </tbody>\n",
              "</table>\n",
              "</div>\n",
              "      <button class=\"colab-df-convert\" onclick=\"convertToInteractive('df-3a24b368-8d0c-49be-b37e-0fbd6278c18a')\"\n",
              "              title=\"Convert this dataframe to an interactive table.\"\n",
              "              style=\"display:none;\">\n",
              "        \n",
              "  <svg xmlns=\"http://www.w3.org/2000/svg\" height=\"24px\"viewBox=\"0 0 24 24\"\n",
              "       width=\"24px\">\n",
              "    <path d=\"M0 0h24v24H0V0z\" fill=\"none\"/>\n",
              "    <path d=\"M18.56 5.44l.94 2.06.94-2.06 2.06-.94-2.06-.94-.94-2.06-.94 2.06-2.06.94zm-11 1L8.5 8.5l.94-2.06 2.06-.94-2.06-.94L8.5 2.5l-.94 2.06-2.06.94zm10 10l.94 2.06.94-2.06 2.06-.94-2.06-.94-.94-2.06-.94 2.06-2.06.94z\"/><path d=\"M17.41 7.96l-1.37-1.37c-.4-.4-.92-.59-1.43-.59-.52 0-1.04.2-1.43.59L10.3 9.45l-7.72 7.72c-.78.78-.78 2.05 0 2.83L4 21.41c.39.39.9.59 1.41.59.51 0 1.02-.2 1.41-.59l7.78-7.78 2.81-2.81c.8-.78.8-2.07 0-2.86zM5.41 20L4 18.59l7.72-7.72 1.47 1.35L5.41 20z\"/>\n",
              "  </svg>\n",
              "      </button>\n",
              "      \n",
              "  <style>\n",
              "    .colab-df-container {\n",
              "      display:flex;\n",
              "      flex-wrap:wrap;\n",
              "      gap: 12px;\n",
              "    }\n",
              "\n",
              "    .colab-df-convert {\n",
              "      background-color: #E8F0FE;\n",
              "      border: none;\n",
              "      border-radius: 50%;\n",
              "      cursor: pointer;\n",
              "      display: none;\n",
              "      fill: #1967D2;\n",
              "      height: 32px;\n",
              "      padding: 0 0 0 0;\n",
              "      width: 32px;\n",
              "    }\n",
              "\n",
              "    .colab-df-convert:hover {\n",
              "      background-color: #E2EBFA;\n",
              "      box-shadow: 0px 1px 2px rgba(60, 64, 67, 0.3), 0px 1px 3px 1px rgba(60, 64, 67, 0.15);\n",
              "      fill: #174EA6;\n",
              "    }\n",
              "\n",
              "    [theme=dark] .colab-df-convert {\n",
              "      background-color: #3B4455;\n",
              "      fill: #D2E3FC;\n",
              "    }\n",
              "\n",
              "    [theme=dark] .colab-df-convert:hover {\n",
              "      background-color: #434B5C;\n",
              "      box-shadow: 0px 1px 3px 1px rgba(0, 0, 0, 0.15);\n",
              "      filter: drop-shadow(0px 1px 2px rgba(0, 0, 0, 0.3));\n",
              "      fill: #FFFFFF;\n",
              "    }\n",
              "  </style>\n",
              "\n",
              "      <script>\n",
              "        const buttonEl =\n",
              "          document.querySelector('#df-3a24b368-8d0c-49be-b37e-0fbd6278c18a button.colab-df-convert');\n",
              "        buttonEl.style.display =\n",
              "          google.colab.kernel.accessAllowed ? 'block' : 'none';\n",
              "\n",
              "        async function convertToInteractive(key) {\n",
              "          const element = document.querySelector('#df-3a24b368-8d0c-49be-b37e-0fbd6278c18a');\n",
              "          const dataTable =\n",
              "            await google.colab.kernel.invokeFunction('convertToInteractive',\n",
              "                                                     [key], {});\n",
              "          if (!dataTable) return;\n",
              "\n",
              "          const docLinkHtml = 'Like what you see? Visit the ' +\n",
              "            '<a target=\"_blank\" href=https://colab.research.google.com/notebooks/data_table.ipynb>data table notebook</a>'\n",
              "            + ' to learn more about interactive tables.';\n",
              "          element.innerHTML = '';\n",
              "          dataTable['output_type'] = 'display_data';\n",
              "          await google.colab.output.renderOutput(dataTable, element);\n",
              "          const docLink = document.createElement('div');\n",
              "          docLink.innerHTML = docLinkHtml;\n",
              "          element.appendChild(docLink);\n",
              "        }\n",
              "      </script>\n",
              "    </div>\n",
              "  </div>\n",
              "  "
            ]
          },
          "metadata": {},
          "execution_count": 3
        }
      ]
    },
    {
      "cell_type": "code",
      "source": [
        "import nltk\n",
        "nltk.download('punkt')\n",
        "from nltk import word_tokenize"
      ],
      "metadata": {
        "colab": {
          "base_uri": "https://localhost:8080/"
        },
        "id": "6csu5RwqYom9",
        "outputId": "39d65298-d76c-4681-993d-6b2d2a638960"
      },
      "execution_count": null,
      "outputs": [
        {
          "output_type": "stream",
          "name": "stderr",
          "text": [
            "[nltk_data] Downloading package punkt to /root/nltk_data...\n",
            "[nltk_data]   Package punkt is already up-to-date!\n"
          ]
        }
      ]
    },
    {
      "cell_type": "code",
      "source": [
        "#Tokenization of data\n",
        "df['desc'] = df.apply(lambda row: nltk.word_tokenize(row['desc']), axis=1)"
      ],
      "metadata": {
        "id": "WCY6Zi9vYow2"
      },
      "execution_count": null,
      "outputs": []
    },
    {
      "cell_type": "code",
      "source": [
        "#Lemmatization\n",
        "import nltk\n",
        "nltk.download('omw-1.4')\n",
        "nltk.download('wordnet')\n",
        "from nltk.stem import WordNetLemmatizer\n",
        "wordnet_lemmatizer = WordNetLemmatizer()\n",
        "\n",
        "def lemmatizer(text):\n",
        "  lemm = [wordnet_lemmatizer.lemmatize(word) for word in text]\n",
        "  lemm = ' '.join(lemm)\n",
        "  return lemm\n",
        "  \n",
        "df['desc']=df['desc'].apply(lambda x:lemmatizer(x))"
      ],
      "metadata": {
        "colab": {
          "base_uri": "https://localhost:8080/"
        },
        "id": "9FW8K4zhYozN",
        "outputId": "924d50b6-ae04-40ca-d991-c46806835233"
      },
      "execution_count": null,
      "outputs": [
        {
          "output_type": "stream",
          "name": "stderr",
          "text": [
            "[nltk_data] Downloading package omw-1.4 to /root/nltk_data...\n",
            "[nltk_data]   Package omw-1.4 is already up-to-date!\n",
            "[nltk_data] Downloading package wordnet to /root/nltk_data...\n",
            "[nltk_data]   Package wordnet is already up-to-date!\n"
          ]
        }
      ]
    },
    {
      "cell_type": "code",
      "source": [
        "df.head(10)"
      ],
      "metadata": {
        "colab": {
          "base_uri": "https://localhost:8080/",
          "height": 363
        },
        "id": "Uu2BkCFWYo1q",
        "outputId": "8836ad5c-a920-4cc8-ab56-877b461e30d7"
      },
      "execution_count": null,
      "outputs": [
        {
          "output_type": "execute_result",
          "data": {
            "text/plain": [
              "   Unnamed: 0                    product  \\\n",
              "0           0                  Strap top   \n",
              "1           1              Strap top (1)   \n",
              "2           2          OP T-shirt (Idro)   \n",
              "3           3        20 den 1p Stockings   \n",
              "4           4  Shape Up 30 den 1p Tights   \n",
              "5           5   Support 40 den 1p Tights   \n",
              "6           6          200 den 1p Tights   \n",
              "7           7             SWEATSHIRT  OC   \n",
              "8           8          Alice BANDEAU 2-p   \n",
              "9           9          Frugan longsleeve   \n",
              "\n",
              "                                                desc  product_id  \n",
              "0  solid jersey basic basic everyday woman should...           1  \n",
              "1  stripe jersey basic basic everyday woman shoul...           2  \n",
              "2  solid clean lingerie woman lingerie visible mi...           3  \n",
              "3  solid tights basic tigh sock nightwear woman w...           4  \n",
              "4  solid tights basic tigh sock nightwear woman a...           5  \n",
              "5  solid tights basic tigh sock nightwear woman e...           6  \n",
              "6  solid tights basic tigh sock nightwear woman m...           7  \n",
              "7  pattern basic baby complement essential baby p...           8  \n",
              "8  stripesolid casual lingerie woman lingerie top...           9  \n",
              "9  solid jersey basic basic everyday woman neckli...          10  "
            ],
            "text/html": [
              "\n",
              "  <div id=\"df-736e6271-ebfe-4681-bd9a-42eadd6befce\">\n",
              "    <div class=\"colab-df-container\">\n",
              "      <div>\n",
              "<style scoped>\n",
              "    .dataframe tbody tr th:only-of-type {\n",
              "        vertical-align: middle;\n",
              "    }\n",
              "\n",
              "    .dataframe tbody tr th {\n",
              "        vertical-align: top;\n",
              "    }\n",
              "\n",
              "    .dataframe thead th {\n",
              "        text-align: right;\n",
              "    }\n",
              "</style>\n",
              "<table border=\"1\" class=\"dataframe\">\n",
              "  <thead>\n",
              "    <tr style=\"text-align: right;\">\n",
              "      <th></th>\n",
              "      <th>Unnamed: 0</th>\n",
              "      <th>product</th>\n",
              "      <th>desc</th>\n",
              "      <th>product_id</th>\n",
              "    </tr>\n",
              "  </thead>\n",
              "  <tbody>\n",
              "    <tr>\n",
              "      <th>0</th>\n",
              "      <td>0</td>\n",
              "      <td>Strap top</td>\n",
              "      <td>solid jersey basic basic everyday woman should...</td>\n",
              "      <td>1</td>\n",
              "    </tr>\n",
              "    <tr>\n",
              "      <th>1</th>\n",
              "      <td>1</td>\n",
              "      <td>Strap top (1)</td>\n",
              "      <td>stripe jersey basic basic everyday woman shoul...</td>\n",
              "      <td>2</td>\n",
              "    </tr>\n",
              "    <tr>\n",
              "      <th>2</th>\n",
              "      <td>2</td>\n",
              "      <td>OP T-shirt (Idro)</td>\n",
              "      <td>solid clean lingerie woman lingerie visible mi...</td>\n",
              "      <td>3</td>\n",
              "    </tr>\n",
              "    <tr>\n",
              "      <th>3</th>\n",
              "      <td>3</td>\n",
              "      <td>20 den 1p Stockings</td>\n",
              "      <td>solid tights basic tigh sock nightwear woman w...</td>\n",
              "      <td>4</td>\n",
              "    </tr>\n",
              "    <tr>\n",
              "      <th>4</th>\n",
              "      <td>4</td>\n",
              "      <td>Shape Up 30 den 1p Tights</td>\n",
              "      <td>solid tights basic tigh sock nightwear woman a...</td>\n",
              "      <td>5</td>\n",
              "    </tr>\n",
              "    <tr>\n",
              "      <th>5</th>\n",
              "      <td>5</td>\n",
              "      <td>Support 40 den 1p Tights</td>\n",
              "      <td>solid tights basic tigh sock nightwear woman e...</td>\n",
              "      <td>6</td>\n",
              "    </tr>\n",
              "    <tr>\n",
              "      <th>6</th>\n",
              "      <td>6</td>\n",
              "      <td>200 den 1p Tights</td>\n",
              "      <td>solid tights basic tigh sock nightwear woman m...</td>\n",
              "      <td>7</td>\n",
              "    </tr>\n",
              "    <tr>\n",
              "      <th>7</th>\n",
              "      <td>7</td>\n",
              "      <td>SWEATSHIRT  OC</td>\n",
              "      <td>pattern basic baby complement essential baby p...</td>\n",
              "      <td>8</td>\n",
              "    </tr>\n",
              "    <tr>\n",
              "      <th>8</th>\n",
              "      <td>8</td>\n",
              "      <td>Alice BANDEAU 2-p</td>\n",
              "      <td>stripesolid casual lingerie woman lingerie top...</td>\n",
              "      <td>9</td>\n",
              "    </tr>\n",
              "    <tr>\n",
              "      <th>9</th>\n",
              "      <td>9</td>\n",
              "      <td>Frugan longsleeve</td>\n",
              "      <td>solid jersey basic basic everyday woman neckli...</td>\n",
              "      <td>10</td>\n",
              "    </tr>\n",
              "  </tbody>\n",
              "</table>\n",
              "</div>\n",
              "      <button class=\"colab-df-convert\" onclick=\"convertToInteractive('df-736e6271-ebfe-4681-bd9a-42eadd6befce')\"\n",
              "              title=\"Convert this dataframe to an interactive table.\"\n",
              "              style=\"display:none;\">\n",
              "        \n",
              "  <svg xmlns=\"http://www.w3.org/2000/svg\" height=\"24px\"viewBox=\"0 0 24 24\"\n",
              "       width=\"24px\">\n",
              "    <path d=\"M0 0h24v24H0V0z\" fill=\"none\"/>\n",
              "    <path d=\"M18.56 5.44l.94 2.06.94-2.06 2.06-.94-2.06-.94-.94-2.06-.94 2.06-2.06.94zm-11 1L8.5 8.5l.94-2.06 2.06-.94-2.06-.94L8.5 2.5l-.94 2.06-2.06.94zm10 10l.94 2.06.94-2.06 2.06-.94-2.06-.94-.94-2.06-.94 2.06-2.06.94z\"/><path d=\"M17.41 7.96l-1.37-1.37c-.4-.4-.92-.59-1.43-.59-.52 0-1.04.2-1.43.59L10.3 9.45l-7.72 7.72c-.78.78-.78 2.05 0 2.83L4 21.41c.39.39.9.59 1.41.59.51 0 1.02-.2 1.41-.59l7.78-7.78 2.81-2.81c.8-.78.8-2.07 0-2.86zM5.41 20L4 18.59l7.72-7.72 1.47 1.35L5.41 20z\"/>\n",
              "  </svg>\n",
              "      </button>\n",
              "      \n",
              "  <style>\n",
              "    .colab-df-container {\n",
              "      display:flex;\n",
              "      flex-wrap:wrap;\n",
              "      gap: 12px;\n",
              "    }\n",
              "\n",
              "    .colab-df-convert {\n",
              "      background-color: #E8F0FE;\n",
              "      border: none;\n",
              "      border-radius: 50%;\n",
              "      cursor: pointer;\n",
              "      display: none;\n",
              "      fill: #1967D2;\n",
              "      height: 32px;\n",
              "      padding: 0 0 0 0;\n",
              "      width: 32px;\n",
              "    }\n",
              "\n",
              "    .colab-df-convert:hover {\n",
              "      background-color: #E2EBFA;\n",
              "      box-shadow: 0px 1px 2px rgba(60, 64, 67, 0.3), 0px 1px 3px 1px rgba(60, 64, 67, 0.15);\n",
              "      fill: #174EA6;\n",
              "    }\n",
              "\n",
              "    [theme=dark] .colab-df-convert {\n",
              "      background-color: #3B4455;\n",
              "      fill: #D2E3FC;\n",
              "    }\n",
              "\n",
              "    [theme=dark] .colab-df-convert:hover {\n",
              "      background-color: #434B5C;\n",
              "      box-shadow: 0px 1px 3px 1px rgba(0, 0, 0, 0.15);\n",
              "      filter: drop-shadow(0px 1px 2px rgba(0, 0, 0, 0.3));\n",
              "      fill: #FFFFFF;\n",
              "    }\n",
              "  </style>\n",
              "\n",
              "      <script>\n",
              "        const buttonEl =\n",
              "          document.querySelector('#df-736e6271-ebfe-4681-bd9a-42eadd6befce button.colab-df-convert');\n",
              "        buttonEl.style.display =\n",
              "          google.colab.kernel.accessAllowed ? 'block' : 'none';\n",
              "\n",
              "        async function convertToInteractive(key) {\n",
              "          const element = document.querySelector('#df-736e6271-ebfe-4681-bd9a-42eadd6befce');\n",
              "          const dataTable =\n",
              "            await google.colab.kernel.invokeFunction('convertToInteractive',\n",
              "                                                     [key], {});\n",
              "          if (!dataTable) return;\n",
              "\n",
              "          const docLinkHtml = 'Like what you see? Visit the ' +\n",
              "            '<a target=\"_blank\" href=https://colab.research.google.com/notebooks/data_table.ipynb>data table notebook</a>'\n",
              "            + ' to learn more about interactive tables.';\n",
              "          element.innerHTML = '';\n",
              "          dataTable['output_type'] = 'display_data';\n",
              "          await google.colab.output.renderOutput(dataTable, element);\n",
              "          const docLink = document.createElement('div');\n",
              "          docLink.innerHTML = docLinkHtml;\n",
              "          element.appendChild(docLink);\n",
              "        }\n",
              "      </script>\n",
              "    </div>\n",
              "  </div>\n",
              "  "
            ]
          },
          "metadata": {},
          "execution_count": 7
        }
      ]
    },
    {
      "cell_type": "code",
      "source": [
        "#TF-IDF Vectorization\n",
        "from sklearn.feature_extraction.text import TfidfVectorizer\n",
        "vectorizer = TfidfVectorizer(max_features=21)\n",
        "vectors = vectorizer.fit_transform(df['desc'])\n"
      ],
      "metadata": {
        "id": "rUwwHeRHYo3_"
      },
      "execution_count": null,
      "outputs": []
    },
    {
      "cell_type": "code",
      "source": [
        "vectors = vectorizer.fit_transform(df['desc'].to_list())\n",
        "vectors.shape"
      ],
      "metadata": {
        "colab": {
          "base_uri": "https://localhost:8080/"
        },
        "id": "A5gOTGiwLAJt",
        "outputId": "99bef4bf-79d3-457e-e76e-3717d31f169b"
      },
      "execution_count": null,
      "outputs": [
        {
          "output_type": "execute_result",
          "data": {
            "text/plain": [
              "(10000, 21)"
            ]
          },
          "metadata": {},
          "execution_count": 11
        }
      ]
    },
    {
      "cell_type": "code",
      "source": [
        "x = df.product_id"
      ],
      "metadata": {
        "id": "cNdyx0e1ssJ-"
      },
      "execution_count": null,
      "outputs": []
    },
    {
      "cell_type": "code",
      "source": [
        "y = vectors.todense()"
      ],
      "metadata": {
        "id": "yJJopVYztGWi"
      },
      "execution_count": null,
      "outputs": []
    },
    {
      "cell_type": "code",
      "source": [
        "#Add vectors to the dataset\n",
        "import numpy as np\n",
        "df['vectors'] = [y[i] for i in range(10000)]"
      ],
      "metadata": {
        "id": "jCWbreketvhM"
      },
      "execution_count": null,
      "outputs": []
    },
    {
      "cell_type": "code",
      "source": [
        "df.head()"
      ],
      "metadata": {
        "colab": {
          "base_uri": "https://localhost:8080/",
          "height": 206
        },
        "id": "pRJ8X0IvuPFA",
        "outputId": "1c74454f-c1c8-49b4-c2d4-0585d5e8b516"
      },
      "execution_count": null,
      "outputs": [
        {
          "output_type": "execute_result",
          "data": {
            "text/plain": [
              "   Unnamed: 0                    product  \\\n",
              "0           0                  Strap top   \n",
              "1           1              Strap top (1)   \n",
              "2           2          OP T-shirt (Idro)   \n",
              "3           3        20 den 1p Stockings   \n",
              "4           4  Shape Up 30 den 1p Tights   \n",
              "\n",
              "                                                desc  product_id  \\\n",
              "0  solid jersey basic basic everyday woman should...           1   \n",
              "1  stripe jersey basic basic everyday woman shoul...           2   \n",
              "2  solid clean lingerie woman lingerie visible mi...           3   \n",
              "3  solid tights basic tigh sock nightwear woman w...           4   \n",
              "4  solid tights basic tigh sock nightwear woman a...           5   \n",
              "\n",
              "                                             vectors  \n",
              "0  [[[[[0.         0.         0.         0.      ...  \n",
              "1  [[[[[0.         0.         0.         0.      ...  \n",
              "2  [[[[[0.60479094 0.         0.         0.      ...  \n",
              "3  [[[[[0.         0.         0.         0.      ...  \n",
              "4  [[[[[0.         0.         0.         0.      ...  "
            ],
            "text/html": [
              "\n",
              "  <div id=\"df-a42fb796-3daf-41a1-949a-6ea947c4d737\">\n",
              "    <div class=\"colab-df-container\">\n",
              "      <div>\n",
              "<style scoped>\n",
              "    .dataframe tbody tr th:only-of-type {\n",
              "        vertical-align: middle;\n",
              "    }\n",
              "\n",
              "    .dataframe tbody tr th {\n",
              "        vertical-align: top;\n",
              "    }\n",
              "\n",
              "    .dataframe thead th {\n",
              "        text-align: right;\n",
              "    }\n",
              "</style>\n",
              "<table border=\"1\" class=\"dataframe\">\n",
              "  <thead>\n",
              "    <tr style=\"text-align: right;\">\n",
              "      <th></th>\n",
              "      <th>Unnamed: 0</th>\n",
              "      <th>product</th>\n",
              "      <th>desc</th>\n",
              "      <th>product_id</th>\n",
              "      <th>vectors</th>\n",
              "    </tr>\n",
              "  </thead>\n",
              "  <tbody>\n",
              "    <tr>\n",
              "      <th>0</th>\n",
              "      <td>0</td>\n",
              "      <td>Strap top</td>\n",
              "      <td>solid jersey basic basic everyday woman should...</td>\n",
              "      <td>1</td>\n",
              "      <td>[[[[[0.         0.         0.         0.      ...</td>\n",
              "    </tr>\n",
              "    <tr>\n",
              "      <th>1</th>\n",
              "      <td>1</td>\n",
              "      <td>Strap top (1)</td>\n",
              "      <td>stripe jersey basic basic everyday woman shoul...</td>\n",
              "      <td>2</td>\n",
              "      <td>[[[[[0.         0.         0.         0.      ...</td>\n",
              "    </tr>\n",
              "    <tr>\n",
              "      <th>2</th>\n",
              "      <td>2</td>\n",
              "      <td>OP T-shirt (Idro)</td>\n",
              "      <td>solid clean lingerie woman lingerie visible mi...</td>\n",
              "      <td>3</td>\n",
              "      <td>[[[[[0.60479094 0.         0.         0.      ...</td>\n",
              "    </tr>\n",
              "    <tr>\n",
              "      <th>3</th>\n",
              "      <td>3</td>\n",
              "      <td>20 den 1p Stockings</td>\n",
              "      <td>solid tights basic tigh sock nightwear woman w...</td>\n",
              "      <td>4</td>\n",
              "      <td>[[[[[0.         0.         0.         0.      ...</td>\n",
              "    </tr>\n",
              "    <tr>\n",
              "      <th>4</th>\n",
              "      <td>4</td>\n",
              "      <td>Shape Up 30 den 1p Tights</td>\n",
              "      <td>solid tights basic tigh sock nightwear woman a...</td>\n",
              "      <td>5</td>\n",
              "      <td>[[[[[0.         0.         0.         0.      ...</td>\n",
              "    </tr>\n",
              "  </tbody>\n",
              "</table>\n",
              "</div>\n",
              "      <button class=\"colab-df-convert\" onclick=\"convertToInteractive('df-a42fb796-3daf-41a1-949a-6ea947c4d737')\"\n",
              "              title=\"Convert this dataframe to an interactive table.\"\n",
              "              style=\"display:none;\">\n",
              "        \n",
              "  <svg xmlns=\"http://www.w3.org/2000/svg\" height=\"24px\"viewBox=\"0 0 24 24\"\n",
              "       width=\"24px\">\n",
              "    <path d=\"M0 0h24v24H0V0z\" fill=\"none\"/>\n",
              "    <path d=\"M18.56 5.44l.94 2.06.94-2.06 2.06-.94-2.06-.94-.94-2.06-.94 2.06-2.06.94zm-11 1L8.5 8.5l.94-2.06 2.06-.94-2.06-.94L8.5 2.5l-.94 2.06-2.06.94zm10 10l.94 2.06.94-2.06 2.06-.94-2.06-.94-.94-2.06-.94 2.06-2.06.94z\"/><path d=\"M17.41 7.96l-1.37-1.37c-.4-.4-.92-.59-1.43-.59-.52 0-1.04.2-1.43.59L10.3 9.45l-7.72 7.72c-.78.78-.78 2.05 0 2.83L4 21.41c.39.39.9.59 1.41.59.51 0 1.02-.2 1.41-.59l7.78-7.78 2.81-2.81c.8-.78.8-2.07 0-2.86zM5.41 20L4 18.59l7.72-7.72 1.47 1.35L5.41 20z\"/>\n",
              "  </svg>\n",
              "      </button>\n",
              "      \n",
              "  <style>\n",
              "    .colab-df-container {\n",
              "      display:flex;\n",
              "      flex-wrap:wrap;\n",
              "      gap: 12px;\n",
              "    }\n",
              "\n",
              "    .colab-df-convert {\n",
              "      background-color: #E8F0FE;\n",
              "      border: none;\n",
              "      border-radius: 50%;\n",
              "      cursor: pointer;\n",
              "      display: none;\n",
              "      fill: #1967D2;\n",
              "      height: 32px;\n",
              "      padding: 0 0 0 0;\n",
              "      width: 32px;\n",
              "    }\n",
              "\n",
              "    .colab-df-convert:hover {\n",
              "      background-color: #E2EBFA;\n",
              "      box-shadow: 0px 1px 2px rgba(60, 64, 67, 0.3), 0px 1px 3px 1px rgba(60, 64, 67, 0.15);\n",
              "      fill: #174EA6;\n",
              "    }\n",
              "\n",
              "    [theme=dark] .colab-df-convert {\n",
              "      background-color: #3B4455;\n",
              "      fill: #D2E3FC;\n",
              "    }\n",
              "\n",
              "    [theme=dark] .colab-df-convert:hover {\n",
              "      background-color: #434B5C;\n",
              "      box-shadow: 0px 1px 3px 1px rgba(0, 0, 0, 0.15);\n",
              "      filter: drop-shadow(0px 1px 2px rgba(0, 0, 0, 0.3));\n",
              "      fill: #FFFFFF;\n",
              "    }\n",
              "  </style>\n",
              "\n",
              "      <script>\n",
              "        const buttonEl =\n",
              "          document.querySelector('#df-a42fb796-3daf-41a1-949a-6ea947c4d737 button.colab-df-convert');\n",
              "        buttonEl.style.display =\n",
              "          google.colab.kernel.accessAllowed ? 'block' : 'none';\n",
              "\n",
              "        async function convertToInteractive(key) {\n",
              "          const element = document.querySelector('#df-a42fb796-3daf-41a1-949a-6ea947c4d737');\n",
              "          const dataTable =\n",
              "            await google.colab.kernel.invokeFunction('convertToInteractive',\n",
              "                                                     [key], {});\n",
              "          if (!dataTable) return;\n",
              "\n",
              "          const docLinkHtml = 'Like what you see? Visit the ' +\n",
              "            '<a target=\"_blank\" href=https://colab.research.google.com/notebooks/data_table.ipynb>data table notebook</a>'\n",
              "            + ' to learn more about interactive tables.';\n",
              "          element.innerHTML = '';\n",
              "          dataTable['output_type'] = 'display_data';\n",
              "          await google.colab.output.renderOutput(dataTable, element);\n",
              "          const docLink = document.createElement('div');\n",
              "          docLink.innerHTML = docLinkHtml;\n",
              "          element.appendChild(docLink);\n",
              "        }\n",
              "      </script>\n",
              "    </div>\n",
              "  </div>\n",
              "  "
            ]
          },
          "metadata": {},
          "execution_count": 16
        }
      ]
    },
    {
      "cell_type": "code",
      "source": [
        "#Calculate cosine similarity score for the vectors.\n",
        "from sklearn.metrics.pairwise import cosine_similarity\n",
        "cs =cosine_similarity(vectors)\n",
        "cs.shape"
      ],
      "metadata": {
        "colab": {
          "base_uri": "https://localhost:8080/"
        },
        "id": "C7WTNksv4ZyH",
        "outputId": "443f7744-c221-4000-aa52-6579bd83af4a"
      },
      "execution_count": null,
      "outputs": [
        {
          "output_type": "execute_result",
          "data": {
            "text/plain": [
              "(10000, 10000)"
            ]
          },
          "metadata": {},
          "execution_count": 17
        }
      ]
    },
    {
      "cell_type": "code",
      "source": [
        "def get_index_from_query(query):\n",
        "    return df[df['product'] == query]['product_id'].values[0]\n",
        "product_index = get_index_from_query(\"ROMY 2p\")\n"
      ],
      "metadata": {
        "id": "3qRnmQZ732KB"
      },
      "execution_count": null,
      "outputs": []
    },
    {
      "cell_type": "code",
      "source": [
        "similar_items = list(enumerate(cs[product_index]))"
      ],
      "metadata": {
        "id": "mKffX8gK32Ol"
      },
      "execution_count": null,
      "outputs": []
    },
    {
      "cell_type": "code",
      "source": [
        "sorted_similar_items = sorted(similar_items, key=lambda x:x[1], reverse=True)"
      ],
      "metadata": {
        "id": "abndP1do8fkC"
      },
      "execution_count": null,
      "outputs": []
    },
    {
      "cell_type": "code",
      "source": [
        "#Get recommendations based on Tf-idf vectorization and cosine similarity score.\n",
        "def get_product_from_index(index):\n",
        "    return df[df['product_id'] == index]['product'].values[0]\n",
        "i=0\n",
        "for product in sorted_similar_items:\n",
        "    print(get_product_from_index(product[0]))\n",
        "    i=i+1\n",
        "    if i>5:\n",
        "        break"
      ],
      "metadata": {
        "colab": {
          "base_uri": "https://localhost:8080/"
        },
        "id": "YhI0xgxW8q8K",
        "outputId": "a802d054-7a20-478f-fbea-4873211041e0"
      },
      "execution_count": null,
      "outputs": [
        {
          "output_type": "stream",
          "name": "stdout",
          "text": [
            "Strap top\n",
            "Polly 3p minishaftless\n",
            "ROMY 2p\n",
            "Polly Top\n",
            "SPEED Paprika LS\n",
            "MIR cashmere/cotton trousers\n"
          ]
        }
      ]
    },
    {
      "cell_type": "code",
      "source": [
        "import pickle"
      ],
      "metadata": {
        "id": "hsSSKJmDAe5M"
      },
      "execution_count": null,
      "outputs": []
    },
    {
      "cell_type": "code",
      "source": [
        "product_vector = {}\n",
        "for key in df['product']:\n",
        "  product_vector[key]=df[df['product']==key]['vectors'].values"
      ],
      "metadata": {
        "id": "9T3SfIkFA3ij"
      },
      "execution_count": null,
      "outputs": []
    },
    {
      "cell_type": "code",
      "source": [
        "#product_vector"
      ],
      "metadata": {
        "id": "X_-uA29floO-"
      },
      "execution_count": null,
      "outputs": []
    },
    {
      "cell_type": "code",
      "source": [
        "with open('./product_vec.pkl', 'wb') as f:\n",
        "  file = pickle.dump(product_vector, f)"
      ],
      "metadata": {
        "id": "2d166yiFBLUz"
      },
      "execution_count": null,
      "outputs": []
    },
    {
      "cell_type": "code",
      "source": [
        "with open('./product_vec.pkl', 'rb') as f:\n",
        "  file = pickle.load(f)"
      ],
      "metadata": {
        "id": "D7AGBstmCA7n"
      },
      "execution_count": null,
      "outputs": []
    },
    {
      "cell_type": "code",
      "source": [
        "#Perform Word Embedding\n",
        "from gensim.test.utils import datapath, get_tmpfile\n",
        "from gensim.models import KeyedVectors\n",
        "from gensim.scripts.glove2word2vec import glove2word2vec"
      ],
      "metadata": {
        "id": "qfTlf_mbDJur"
      },
      "execution_count": null,
      "outputs": []
    },
    {
      "cell_type": "code",
      "source": [
        "!wget https://drive.google.com/file/d/0B7XkCwpI5KDYNlNUTTlSS21pQmM/edit?resourcekey=0-wjGZdNAUop6WykTtMip30g -O GoogleGoogleNews-vectors-negative300.bin"
      ],
      "metadata": {
        "colab": {
          "base_uri": "https://localhost:8080/"
        },
        "id": "zmQIHcVnZ62r",
        "outputId": "cd4d9b31-8ec0-4f03-8a4a-3a136a305223"
      },
      "execution_count": null,
      "outputs": [
        {
          "output_type": "stream",
          "name": "stdout",
          "text": [
            "--2022-10-20 00:32:24--  https://drive.google.com/file/d/0B7XkCwpI5KDYNlNUTTlSS21pQmM/edit?resourcekey=0-wjGZdNAUop6WykTtMip30g\n",
            "Resolving drive.google.com (drive.google.com)... 172.217.218.101, 172.217.218.102, 172.217.218.138, ...\n",
            "Connecting to drive.google.com (drive.google.com)|172.217.218.101|:443... connected.\n",
            "HTTP request sent, awaiting response... 200 OK\n",
            "Length: unspecified [text/html]\n",
            "Saving to: ‘GoogleGoogleNews-vectors-negative300.bin’\n",
            "\n",
            "GoogleGoogleNews-ve     [ <=>                ]  66.60K  --.-KB/s    in 0.08s   \n",
            "\n",
            "2022-10-20 00:32:26 (874 KB/s) - ‘GoogleGoogleNews-vectors-negative300.bin’ saved [68199]\n",
            "\n"
          ]
        }
      ]
    },
    {
      "cell_type": "code",
      "source": [
        "!unzip archive.zip"
      ],
      "metadata": {
        "colab": {
          "base_uri": "https://localhost:8080/"
        },
        "id": "-kLnU1oOdLe8",
        "outputId": "9ae12d34-c283-4d58-95db-3987ee99b47f"
      },
      "execution_count": null,
      "outputs": [
        {
          "output_type": "stream",
          "name": "stdout",
          "text": [
            "Archive:  archive.zip\n",
            "  inflating: glove.6B.100d.txt       \n"
          ]
        }
      ]
    },
    {
      "cell_type": "code",
      "source": [
        "\n",
        "import os\n",
        "# Global parameters\n",
        "#root folder\n",
        "root_folder='.'\n",
        "data_folder_name='data'\n",
        "glove_filename='glove.6B.100d.txt'\n",
        "\n",
        "\n",
        "# Variable for data directory\n",
        "DATA_PATH = os.path.abspath(os.path.join(root_folder, data_folder_name))\n",
        "glove_path = \"/content/glove.6B.100d.txt\"\n"
      ],
      "metadata": {
        "id": "TN_TcHhqc8GT"
      },
      "execution_count": null,
      "outputs": []
    },
    {
      "cell_type": "code",
      "source": [
        "# glove2word2vec saves the Glove embeddings in the word2vec format \n",
        "from gensim.scripts.glove2word2vec import glove2word2vec\n",
        "word2vec_output_file = glove_filename+'.word2vec'\n",
        "glove2word2vec(glove_path, word2vec_output_file)"
      ],
      "metadata": {
        "colab": {
          "base_uri": "https://localhost:8080/"
        },
        "id": "TyqELtw5cSHf",
        "outputId": "01ede936-dee7-435d-8545-2fcbd819bc33"
      },
      "execution_count": null,
      "outputs": [
        {
          "output_type": "execute_result",
          "data": {
            "text/plain": [
              "(400000, 100)"
            ]
          },
          "metadata": {},
          "execution_count": 34
        }
      ]
    },
    {
      "cell_type": "code",
      "source": [
        "from gensim.models import KeyedVectors\n",
        "# load the Stanford GloVe model\n",
        "word2vec_output_file = glove_filename+'.word2vec'\n",
        "model = KeyedVectors.load_word2vec_format(word2vec_output_file, binary=False)\n"
      ],
      "metadata": {
        "id": "hNrXbyGEeXvT"
      },
      "execution_count": null,
      "outputs": []
    },
    {
      "cell_type": "code",
      "source": [
        "d_arr = df['desc'].to_numpy()\n",
        "print(d_arr)\n"
      ],
      "metadata": {
        "colab": {
          "base_uri": "https://localhost:8080/"
        },
        "id": "haR3eH96jfcO",
        "outputId": "3c8c60b2-cb55-4d78-9a0d-4ef2198ccd8f"
      },
      "execution_count": null,
      "outputs": [
        {
          "output_type": "stream",
          "name": "stdout",
          "text": [
            "['solid jersey basic basic everyday woman shoulder top jersey strap narrow'\n",
            " 'stripe jersey basic basic everyday woman shoulder top jersey strap narrow'\n",
            " 'solid clean lingerie woman lingerie visible microfibre back padded comfort good support without bra hookandeye cup fastening shoulder seam provide bust greater lightly moulded tshirt underwired shape strap narrow adjustable'\n",
            " ...\n",
            " 'solidmelangestructure jersey basic light men underwear elasticated drawstring pocket waist seam short cotton side piqué discreet'\n",
            " 'solid jersey basic light men underwear sturdy roundnecked tshirt cotton jersey'\n",
            " 'melangestripesolid jerseyjersey basic light men underwear sturdy roundnecked tshirt cotton jersey']\n"
          ]
        }
      ]
    },
    {
      "cell_type": "code",
      "source": [
        "#Maximum length of the vectors\n",
        "final_vector =  {}\n",
        "m = 0\n",
        "for i in range (0,10000):\n",
        "\n",
        "  word_vec = []\n",
        "  for w in d_arr[i].split(\" \"):\n",
        "    try:\n",
        "      word_vec.append(sum(model.get_vector(w))/100)\n",
        "    except:\n",
        "      pass\n",
        "  if m < len(word_vec):\n",
        "    m = len(word_vec)\n",
        "  final_vector[df['product'][i]] = word_vec\n",
        "print(m)"
      ],
      "metadata": {
        "colab": {
          "base_uri": "https://localhost:8080/"
        },
        "id": "xyjB8VPIkbKY",
        "outputId": "4040b084-5b5e-4b76-e59c-8b7a076bf81f"
      },
      "execution_count": null,
      "outputs": [
        {
          "output_type": "stream",
          "name": "stdout",
          "text": [
            "67\n"
          ]
        }
      ]
    },
    {
      "cell_type": "code",
      "source": [
        "#Zero-padding of vectors\n",
        "for key in final_vector.keys():\n",
        "  if len(final_vector[key]) < m:\n",
        "    r = m - len(final_vector[key])\n",
        "    l = [0 for i in range(r)]\n",
        "    final_vector[key].extend(l)"
      ],
      "metadata": {
        "id": "ZHrgiuN_JaTY"
      },
      "execution_count": null,
      "outputs": []
    },
    {
      "cell_type": "code",
      "source": [
        "# make the matrix with the words\n",
        "words = final_vector.keys()\n",
        "X = []\n",
        "for w in words:\n",
        "    X.append(final_vector[w])\n",
        "\n",
        "from sklearn import cluster\n",
        "from sklearn import metrics\n",
        "kmeans = cluster.KMeans(n_clusters=500)\n",
        "kmeans.fit(X)\n",
        "print(kmeans)\n",
        " \n",
        "labels = kmeans.labels_\n",
        "centroids = kmeans.cluster_centers_\n",
        " \n",
        "print (\"Cluster id labels for input data\")\n",
        "print (labels)\n",
        "print (\"Centroids data\")\n",
        "print (centroids)"
      ],
      "metadata": {
        "colab": {
          "base_uri": "https://localhost:8080/"
        },
        "id": "kq-SzH6-Jsce",
        "outputId": "38d0b876-3765-47ac-e6d9-8ec362b15b1b"
      },
      "execution_count": null,
      "outputs": [
        {
          "output_type": "stream",
          "name": "stdout",
          "text": [
            "KMeans(n_clusters=500)\n",
            "Cluster id labels for input data\n",
            "[141 141 492 ... 255 159 493]\n",
            "Centroids data\n",
            "[[-2.04795528e-04  7.27292312e-02 -6.62594573e-02 ... -8.47032947e-22\n",
            "   8.47032947e-22 -2.11758237e-22]\n",
            " [ 4.61764736e-02 -5.30757024e-02  1.72123236e-02 ... -8.47032947e-22\n",
            "   0.00000000e+00 -2.11758237e-22]\n",
            " [ 2.29394770e-02  2.25282005e-02  3.48359099e-02 ...  0.00000000e+00\n",
            "   0.00000000e+00 -2.11758237e-22]\n",
            " ...\n",
            " [ 7.27292312e-02 -6.62594573e-02  8.22120105e-03 ...  0.00000000e+00\n",
            "   0.00000000e+00  0.00000000e+00]\n",
            " [-4.13567209e-03  8.44012352e-02  4.42389651e-02 ... -8.47032947e-22\n",
            "   0.00000000e+00  0.00000000e+00]\n",
            " [-2.04366917e-02  2.63380876e-02  1.33334243e-02 ... -8.47032947e-22\n",
            "   0.00000000e+00 -2.11758237e-22]]\n"
          ]
        }
      ]
    },
    {
      "cell_type": "code",
      "source": [
        "print(np.array(X).shape)\n"
      ],
      "metadata": {
        "colab": {
          "base_uri": "https://localhost:8080/"
        },
        "id": "D1-CCkKLx9_Z",
        "outputId": "89f462c8-6e65-4188-b2b3-42ae20acfdba"
      },
      "execution_count": null,
      "outputs": [
        {
          "output_type": "stream",
          "name": "stdout",
          "text": [
            "(10000, 67)\n"
          ]
        }
      ]
    },
    {
      "cell_type": "code",
      "source": [
        "#Find the cluster with least distance with the query vector\n",
        "import numpy as np\n",
        "from sklearn.metrics.pairwise import cosine_similarity\n",
        "query =\"Strap top\"\n",
        "v = np.array([final_vector[query]])\n",
        "dist = 10000\n",
        "for i in range(len(centroids)):\n",
        "  d = cosine_similarity(v,[centroids[i]])\n",
        "  if dist > d:\n",
        "    \n",
        "    dist = d\n",
        "    label = labels[i]\n",
        "\n",
        "\n",
        "\n"
      ],
      "metadata": {
        "id": "de9p2cr8HH5U"
      },
      "execution_count": null,
      "outputs": []
    },
    {
      "cell_type": "code",
      "source": [
        "label"
      ],
      "metadata": {
        "colab": {
          "base_uri": "https://localhost:8080/"
        },
        "id": "Y9sDx_vdHH_k",
        "outputId": "222f0225-2cca-42cd-a888-6e654b573572"
      },
      "execution_count": null,
      "outputs": [
        {
          "output_type": "execute_result",
          "data": {
            "text/plain": [
              "13"
            ]
          },
          "metadata": {},
          "execution_count": 82
        }
      ]
    },
    {
      "cell_type": "code",
      "source": [
        "#Getting the items present in the cluster.\n",
        "ref = { i:X[i] for i in list(np.where(labels ==label)[0]) }\n",
        "reff=[]\n",
        "reff_key =[]\n",
        "reff_key = list(ref.keys())\n",
        "reff = list(ref.values())"
      ],
      "metadata": {
        "id": "6ThBGmwzy8Lx"
      },
      "execution_count": null,
      "outputs": []
    },
    {
      "cell_type": "code",
      "source": [
        "#distance between the query and the items present within the cluster\n",
        "dist_list=[]\n",
        "index_id =[]\n",
        "v = np.array([final_vector[query]])\n",
        "for i in range(len(reff)):\n",
        "  d = cosine_similarity(v,[reff[i]])\n",
        "  dist_list.append(list(d))\n",
        "  index_id.append(reff_key[i])\n",
        "  "
      ],
      "metadata": {
        "id": "Ao0C_F2vNrvT"
      },
      "execution_count": null,
      "outputs": []
    },
    {
      "cell_type": "code",
      "source": [
        "length = len(dist_list)"
      ],
      "metadata": {
        "id": "dyk4QgKLfYoP"
      },
      "execution_count": null,
      "outputs": []
    },
    {
      "cell_type": "code",
      "source": [
        "length"
      ],
      "metadata": {
        "colab": {
          "base_uri": "https://localhost:8080/"
        },
        "id": "JDF1Fi4SgLhf",
        "outputId": "f1a3e7e1-008e-4222-96e1-114d3927d521"
      },
      "execution_count": null,
      "outputs": [
        {
          "output_type": "execute_result",
          "data": {
            "text/plain": [
              "33"
            ]
          },
          "metadata": {},
          "execution_count": 91
        }
      ]
    },
    {
      "cell_type": "code",
      "source": [
        "index_id"
      ],
      "metadata": {
        "colab": {
          "base_uri": "https://localhost:8080/"
        },
        "id": "-JT4eqbthe7K",
        "outputId": "b0a5b9bf-7d71-426a-9aee-9507d6dd1304"
      },
      "execution_count": null,
      "outputs": [
        {
          "output_type": "execute_result",
          "data": {
            "text/plain": [
              "[19,\n",
              " 20,\n",
              " 23,\n",
              " 221,\n",
              " 316,\n",
              " 433,\n",
              " 434,\n",
              " 436,\n",
              " 441,\n",
              " 445,\n",
              " 446,\n",
              " 450,\n",
              " 550,\n",
              " 681,\n",
              " 935,\n",
              " 1113,\n",
              " 1114,\n",
              " 1115,\n",
              " 1204,\n",
              " 1923,\n",
              " 1924,\n",
              " 2227,\n",
              " 2290,\n",
              " 3268,\n",
              " 4666,\n",
              " 4935,\n",
              " 5162,\n",
              " 5646,\n",
              " 6012,\n",
              " 6099,\n",
              " 6326,\n",
              " 7277,\n",
              " 7813]"
            ]
          },
          "metadata": {},
          "execution_count": 92
        }
      ]
    },
    {
      "cell_type": "code",
      "source": [
        "print(dist_list)"
      ],
      "metadata": {
        "colab": {
          "base_uri": "https://localhost:8080/"
        },
        "id": "6nLwQYeiNsqa",
        "outputId": "4187c6c2-e994-4331-e520-08b156065cfb"
      },
      "execution_count": null,
      "outputs": [
        {
          "output_type": "stream",
          "name": "stdout",
          "text": [
            "[[array([0.44704779])], [array([0.44704779])], [array([0.34412666])], [array([0.50584998])], [array([0.3930144])], [array([0.41232548])], [array([0.4552634])], [array([0.4552634])], [array([0.47865251])], [array([0.3345321])], [array([0.3345321])], [array([0.43234416])], [array([0.72936586])], [array([0.43924916])], [array([0.1953162])], [array([0.44704779])], [array([0.44704779])], [array([0.44704779])], [array([0.40898064])], [array([0.33475749])], [array([0.33475749])], [array([0.03730507])], [array([0.38607547])], [array([0.46516655])], [array([0.32152456])], [array([-0.01086111])], [array([0.59817126])], [array([0.32653409])], [array([0.11369338])], [array([0.17145886])], [array([0.38751705])], [array([0.26545114])], [array([0.20388508])]]\n"
          ]
        }
      ]
    },
    {
      "cell_type": "code",
      "source": [
        "#Dictionary for index and respective difference of distance.\n",
        "dictionary_list ={}\n",
        "for i in range(len(dist_list)):\n",
        "  dictionary_list[index_id[i]] =  dist_list[i]\n",
        "\n"
      ],
      "metadata": {
        "id": "grkUlbVWifg_"
      },
      "execution_count": null,
      "outputs": []
    },
    {
      "cell_type": "code",
      "source": [
        "dictionary_list"
      ],
      "metadata": {
        "colab": {
          "base_uri": "https://localhost:8080/"
        },
        "id": "7hkDb_b4kKbX",
        "outputId": "d080e5b6-eae6-4b12-a3e6-5a0db5b7e4e7"
      },
      "execution_count": null,
      "outputs": [
        {
          "output_type": "execute_result",
          "data": {
            "text/plain": [
              "{19: [array([0.44704779])],\n",
              " 20: [array([0.44704779])],\n",
              " 23: [array([0.34412666])],\n",
              " 221: [array([0.50584998])],\n",
              " 316: [array([0.3930144])],\n",
              " 433: [array([0.41232548])],\n",
              " 434: [array([0.4552634])],\n",
              " 436: [array([0.4552634])],\n",
              " 441: [array([0.47865251])],\n",
              " 445: [array([0.3345321])],\n",
              " 446: [array([0.3345321])],\n",
              " 450: [array([0.43234416])],\n",
              " 550: [array([0.72936586])],\n",
              " 681: [array([0.43924916])],\n",
              " 935: [array([0.1953162])],\n",
              " 1113: [array([0.44704779])],\n",
              " 1114: [array([0.44704779])],\n",
              " 1115: [array([0.44704779])],\n",
              " 1204: [array([0.40898064])],\n",
              " 1923: [array([0.33475749])],\n",
              " 1924: [array([0.33475749])],\n",
              " 2227: [array([0.03730507])],\n",
              " 2290: [array([0.38607547])],\n",
              " 3268: [array([0.46516655])],\n",
              " 4666: [array([0.32152456])],\n",
              " 4935: [array([-0.01086111])],\n",
              " 5162: [array([0.59817126])],\n",
              " 5646: [array([0.32653409])],\n",
              " 6012: [array([0.11369338])],\n",
              " 6099: [array([0.17145886])],\n",
              " 6326: [array([0.38751705])],\n",
              " 7277: [array([0.26545114])],\n",
              " 7813: [array([0.20388508])]}"
            ]
          },
          "metadata": {},
          "execution_count": 96
        }
      ]
    },
    {
      "cell_type": "code",
      "source": [
        "#Sorting in ascending order of distance value\n",
        "dist_list.sort"
      ],
      "metadata": {
        "colab": {
          "base_uri": "https://localhost:8080/"
        },
        "id": "0xI1tPhGxAVb",
        "outputId": "0cba2295-75fd-44ba-d3cd-0dd37b2db03a"
      },
      "execution_count": null,
      "outputs": [
        {
          "output_type": "execute_result",
          "data": {
            "text/plain": [
              "<function list.sort(*, key=None, reverse=False)>"
            ]
          },
          "metadata": {},
          "execution_count": 97
        }
      ]
    },
    {
      "cell_type": "code",
      "source": [
        "#Top 5 vectors with least difference wrt distance\n",
        "min_ten_dist =[]\n",
        "for i in range(0,5):\n",
        "  min_ten_dist.append(dist_list[i])\n",
        "  "
      ],
      "metadata": {
        "id": "DSnZ6m0INpy7"
      },
      "execution_count": null,
      "outputs": []
    },
    {
      "cell_type": "code",
      "source": [
        "min_ten_dist"
      ],
      "metadata": {
        "colab": {
          "base_uri": "https://localhost:8080/"
        },
        "id": "uHtbWLCWhDJa",
        "outputId": "e8ef76ec-adc1-4937-a0c5-db32406bea6b"
      },
      "execution_count": null,
      "outputs": [
        {
          "output_type": "execute_result",
          "data": {
            "text/plain": [
              "[[array([0.44704779])],\n",
              " [array([0.44704779])],\n",
              " [array([0.34412666])],\n",
              " [array([0.50584998])],\n",
              " [array([0.3930144])]]"
            ]
          },
          "metadata": {},
          "execution_count": 99
        }
      ]
    },
    {
      "cell_type": "code",
      "source": [
        "#Product id of the vectors\n",
        "top_five_index = [key for key,val in dictionary_list.items() if val in min_ten_dist[0:len(min_ten_dist)]]\n",
        "top_five_index"
      ],
      "metadata": {
        "colab": {
          "base_uri": "https://localhost:8080/"
        },
        "id": "yv3QygjJn6S6",
        "outputId": "4f805f38-201c-4d2f-823c-f14e0bdcf392"
      },
      "execution_count": null,
      "outputs": [
        {
          "output_type": "execute_result",
          "data": {
            "text/plain": [
              "[19, 20, 23, 221, 316, 1113, 1114, 1115]"
            ]
          },
          "metadata": {},
          "execution_count": 100
        }
      ]
    },
    {
      "cell_type": "code",
      "source": [
        "#Product names based on similarity\n",
        "product_list =[]\n",
        "for i in range(len(top_five_index)):\n",
        "  product_list.append(df[df['product_id'] == top_five_index[i]]['product'].values[0])"
      ],
      "metadata": {
        "id": "b94780BAyNQD"
      },
      "execution_count": null,
      "outputs": []
    },
    {
      "cell_type": "code",
      "source": [
        "print(product_list)"
      ],
      "metadata": {
        "colab": {
          "base_uri": "https://localhost:8080/"
        },
        "id": "XYx1FOhTzf8f",
        "outputId": "b73126ab-240c-44db-e73d-4b0170b7b4df"
      },
      "execution_count": null,
      "outputs": [
        {
          "output_type": "stream",
          "name": "stdout",
          "text": [
            "['Dorian l/s basic', 'Tanktop body white 3PACK', '200 den 1p leggings', '2-p micro tights SG', 'Hype', 'Relaxed Skinny 5pkt', '6P Tanktopbody pack', '6PACK Tanktop Body']\n"
          ]
        }
      ]
    }
  ]
}