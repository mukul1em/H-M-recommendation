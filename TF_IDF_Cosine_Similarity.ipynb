{
  "nbformat": 4,
  "nbformat_minor": 0,
  "metadata": {
    "colab": {
      "provenance": [],
      "collapsed_sections": []
    },
    "kernelspec": {
      "name": "python3",
      "display_name": "Python 3"
    },
    "language_info": {
      "name": "python"
    }
  },
  "cells": [
    {
      "cell_type": "markdown",
      "source": [
        "## TF-IDF Vectorization:"
      ],
      "metadata": {
        "id": "46aDgSjeCAf8"
      }
    },
    {
      "cell_type": "code",
      "source": [],
      "metadata": {
        "id": "Y2T35_9s8QLm"
      },
      "execution_count": null,
      "outputs": []
    },
    {
      "cell_type": "code",
      "execution_count": null,
      "metadata": {
        "id": "Wdo1F14QX34z"
      },
      "outputs": [],
      "source": [
        "from __future__ import print_function\n",
        "from google.colab import files \n",
        "\n",
        "import io\n",
        "import pandas as pd\n",
        "\n",
        "\n",
        "  \n",
        "#Code to upload the dataset from your computer as a dataframe\n",
        "df=pd.read_csv(\"/content/preprocessed_data.csv\")\n"
      ]
    },
    {
      "cell_type": "code",
      "source": [
        "df.head(10)"
      ],
      "metadata": {
        "colab": {
          "base_uri": "https://localhost:8080/",
          "height": 363
        },
        "id": "Uu2BkCFWYo1q",
        "outputId": "032f1ff0-2f08-48dd-abfd-76d02fc36901"
      },
      "execution_count": null,
      "outputs": [
        {
          "output_type": "execute_result",
          "data": {
            "text/plain": [
              "   Unnamed: 0  Unnamed: 0.1                    product  \\\n",
              "0           0             0                  Strap top   \n",
              "1           1             1              Strap top (1)   \n",
              "2           2             2          OP T-shirt (Idro)   \n",
              "3           3             3        20 den 1p Stockings   \n",
              "4           4             4  Shape Up 30 den 1p Tights   \n",
              "5           5             5   Support 40 den 1p Tights   \n",
              "6           6             6          200 den 1p Tights   \n",
              "7           7             7             SWEATSHIRT  OC   \n",
              "8           8             8          Alice BANDEAU 2-p   \n",
              "9           9             9          Frugan longsleeve   \n",
              "\n",
              "                                                desc  product_id  \n",
              "0  solid jersey basic basic everyday woman should...           1  \n",
              "1  stripe jersey basic basic everyday woman shoul...           2  \n",
              "2  solid clean lingerie woman lingerie visible mi...           3  \n",
              "3  solid tights basic tigh sock nightwear woman w...           4  \n",
              "4  solid tights basic tigh sock nightwear woman a...           5  \n",
              "5  solid tights basic tigh sock nightwear woman e...           6  \n",
              "6  solid tights basic tigh sock nightwear woman m...           7  \n",
              "7  pattern basic baby complement essential baby p...           8  \n",
              "8  stripesolid casual lingerie woman lingerie top...           9  \n",
              "9  solid jersey basic basic everyday woman neckli...          10  "
            ],
            "text/html": [
              "\n",
              "  <div id=\"df-09909414-9178-47ff-b4b8-3a49037ce3be\">\n",
              "    <div class=\"colab-df-container\">\n",
              "      <div>\n",
              "<style scoped>\n",
              "    .dataframe tbody tr th:only-of-type {\n",
              "        vertical-align: middle;\n",
              "    }\n",
              "\n",
              "    .dataframe tbody tr th {\n",
              "        vertical-align: top;\n",
              "    }\n",
              "\n",
              "    .dataframe thead th {\n",
              "        text-align: right;\n",
              "    }\n",
              "</style>\n",
              "<table border=\"1\" class=\"dataframe\">\n",
              "  <thead>\n",
              "    <tr style=\"text-align: right;\">\n",
              "      <th></th>\n",
              "      <th>Unnamed: 0</th>\n",
              "      <th>Unnamed: 0.1</th>\n",
              "      <th>product</th>\n",
              "      <th>desc</th>\n",
              "      <th>product_id</th>\n",
              "    </tr>\n",
              "  </thead>\n",
              "  <tbody>\n",
              "    <tr>\n",
              "      <th>0</th>\n",
              "      <td>0</td>\n",
              "      <td>0</td>\n",
              "      <td>Strap top</td>\n",
              "      <td>solid jersey basic basic everyday woman should...</td>\n",
              "      <td>1</td>\n",
              "    </tr>\n",
              "    <tr>\n",
              "      <th>1</th>\n",
              "      <td>1</td>\n",
              "      <td>1</td>\n",
              "      <td>Strap top (1)</td>\n",
              "      <td>stripe jersey basic basic everyday woman shoul...</td>\n",
              "      <td>2</td>\n",
              "    </tr>\n",
              "    <tr>\n",
              "      <th>2</th>\n",
              "      <td>2</td>\n",
              "      <td>2</td>\n",
              "      <td>OP T-shirt (Idro)</td>\n",
              "      <td>solid clean lingerie woman lingerie visible mi...</td>\n",
              "      <td>3</td>\n",
              "    </tr>\n",
              "    <tr>\n",
              "      <th>3</th>\n",
              "      <td>3</td>\n",
              "      <td>3</td>\n",
              "      <td>20 den 1p Stockings</td>\n",
              "      <td>solid tights basic tigh sock nightwear woman w...</td>\n",
              "      <td>4</td>\n",
              "    </tr>\n",
              "    <tr>\n",
              "      <th>4</th>\n",
              "      <td>4</td>\n",
              "      <td>4</td>\n",
              "      <td>Shape Up 30 den 1p Tights</td>\n",
              "      <td>solid tights basic tigh sock nightwear woman a...</td>\n",
              "      <td>5</td>\n",
              "    </tr>\n",
              "    <tr>\n",
              "      <th>5</th>\n",
              "      <td>5</td>\n",
              "      <td>5</td>\n",
              "      <td>Support 40 den 1p Tights</td>\n",
              "      <td>solid tights basic tigh sock nightwear woman e...</td>\n",
              "      <td>6</td>\n",
              "    </tr>\n",
              "    <tr>\n",
              "      <th>6</th>\n",
              "      <td>6</td>\n",
              "      <td>6</td>\n",
              "      <td>200 den 1p Tights</td>\n",
              "      <td>solid tights basic tigh sock nightwear woman m...</td>\n",
              "      <td>7</td>\n",
              "    </tr>\n",
              "    <tr>\n",
              "      <th>7</th>\n",
              "      <td>7</td>\n",
              "      <td>7</td>\n",
              "      <td>SWEATSHIRT  OC</td>\n",
              "      <td>pattern basic baby complement essential baby p...</td>\n",
              "      <td>8</td>\n",
              "    </tr>\n",
              "    <tr>\n",
              "      <th>8</th>\n",
              "      <td>8</td>\n",
              "      <td>8</td>\n",
              "      <td>Alice BANDEAU 2-p</td>\n",
              "      <td>stripesolid casual lingerie woman lingerie top...</td>\n",
              "      <td>9</td>\n",
              "    </tr>\n",
              "    <tr>\n",
              "      <th>9</th>\n",
              "      <td>9</td>\n",
              "      <td>9</td>\n",
              "      <td>Frugan longsleeve</td>\n",
              "      <td>solid jersey basic basic everyday woman neckli...</td>\n",
              "      <td>10</td>\n",
              "    </tr>\n",
              "  </tbody>\n",
              "</table>\n",
              "</div>\n",
              "      <button class=\"colab-df-convert\" onclick=\"convertToInteractive('df-09909414-9178-47ff-b4b8-3a49037ce3be')\"\n",
              "              title=\"Convert this dataframe to an interactive table.\"\n",
              "              style=\"display:none;\">\n",
              "        \n",
              "  <svg xmlns=\"http://www.w3.org/2000/svg\" height=\"24px\"viewBox=\"0 0 24 24\"\n",
              "       width=\"24px\">\n",
              "    <path d=\"M0 0h24v24H0V0z\" fill=\"none\"/>\n",
              "    <path d=\"M18.56 5.44l.94 2.06.94-2.06 2.06-.94-2.06-.94-.94-2.06-.94 2.06-2.06.94zm-11 1L8.5 8.5l.94-2.06 2.06-.94-2.06-.94L8.5 2.5l-.94 2.06-2.06.94zm10 10l.94 2.06.94-2.06 2.06-.94-2.06-.94-.94-2.06-.94 2.06-2.06.94z\"/><path d=\"M17.41 7.96l-1.37-1.37c-.4-.4-.92-.59-1.43-.59-.52 0-1.04.2-1.43.59L10.3 9.45l-7.72 7.72c-.78.78-.78 2.05 0 2.83L4 21.41c.39.39.9.59 1.41.59.51 0 1.02-.2 1.41-.59l7.78-7.78 2.81-2.81c.8-.78.8-2.07 0-2.86zM5.41 20L4 18.59l7.72-7.72 1.47 1.35L5.41 20z\"/>\n",
              "  </svg>\n",
              "      </button>\n",
              "      \n",
              "  <style>\n",
              "    .colab-df-container {\n",
              "      display:flex;\n",
              "      flex-wrap:wrap;\n",
              "      gap: 12px;\n",
              "    }\n",
              "\n",
              "    .colab-df-convert {\n",
              "      background-color: #E8F0FE;\n",
              "      border: none;\n",
              "      border-radius: 50%;\n",
              "      cursor: pointer;\n",
              "      display: none;\n",
              "      fill: #1967D2;\n",
              "      height: 32px;\n",
              "      padding: 0 0 0 0;\n",
              "      width: 32px;\n",
              "    }\n",
              "\n",
              "    .colab-df-convert:hover {\n",
              "      background-color: #E2EBFA;\n",
              "      box-shadow: 0px 1px 2px rgba(60, 64, 67, 0.3), 0px 1px 3px 1px rgba(60, 64, 67, 0.15);\n",
              "      fill: #174EA6;\n",
              "    }\n",
              "\n",
              "    [theme=dark] .colab-df-convert {\n",
              "      background-color: #3B4455;\n",
              "      fill: #D2E3FC;\n",
              "    }\n",
              "\n",
              "    [theme=dark] .colab-df-convert:hover {\n",
              "      background-color: #434B5C;\n",
              "      box-shadow: 0px 1px 3px 1px rgba(0, 0, 0, 0.15);\n",
              "      filter: drop-shadow(0px 1px 2px rgba(0, 0, 0, 0.3));\n",
              "      fill: #FFFFFF;\n",
              "    }\n",
              "  </style>\n",
              "\n",
              "      <script>\n",
              "        const buttonEl =\n",
              "          document.querySelector('#df-09909414-9178-47ff-b4b8-3a49037ce3be button.colab-df-convert');\n",
              "        buttonEl.style.display =\n",
              "          google.colab.kernel.accessAllowed ? 'block' : 'none';\n",
              "\n",
              "        async function convertToInteractive(key) {\n",
              "          const element = document.querySelector('#df-09909414-9178-47ff-b4b8-3a49037ce3be');\n",
              "          const dataTable =\n",
              "            await google.colab.kernel.invokeFunction('convertToInteractive',\n",
              "                                                     [key], {});\n",
              "          if (!dataTable) return;\n",
              "\n",
              "          const docLinkHtml = 'Like what you see? Visit the ' +\n",
              "            '<a target=\"_blank\" href=https://colab.research.google.com/notebooks/data_table.ipynb>data table notebook</a>'\n",
              "            + ' to learn more about interactive tables.';\n",
              "          element.innerHTML = '';\n",
              "          dataTable['output_type'] = 'display_data';\n",
              "          await google.colab.output.renderOutput(dataTable, element);\n",
              "          const docLink = document.createElement('div');\n",
              "          docLink.innerHTML = docLinkHtml;\n",
              "          element.appendChild(docLink);\n",
              "        }\n",
              "      </script>\n",
              "    </div>\n",
              "  </div>\n",
              "  "
            ]
          },
          "metadata": {},
          "execution_count": 4
        }
      ]
    },
    {
      "cell_type": "code",
      "source": [
        "#TF-IDF Vectorization\n",
        "from sklearn.feature_extraction.text import TfidfVectorizer\n",
        "vectorizer = TfidfVectorizer(max_features=21)\n",
        "vectors = vectorizer.fit_transform(df['desc'])\n"
      ],
      "metadata": {
        "id": "rUwwHeRHYo3_"
      },
      "execution_count": null,
      "outputs": []
    },
    {
      "cell_type": "code",
      "source": [
        "vectors = vectorizer.fit_transform(df['desc'].to_list())\n",
        "vectors.shape"
      ],
      "metadata": {
        "colab": {
          "base_uri": "https://localhost:8080/"
        },
        "id": "A5gOTGiwLAJt",
        "outputId": "6ca931e8-e205-4d4d-e821-43f45a0782b4"
      },
      "execution_count": null,
      "outputs": [
        {
          "output_type": "execute_result",
          "data": {
            "text/plain": [
              "(10000, 21)"
            ]
          },
          "metadata": {},
          "execution_count": 6
        }
      ]
    },
    {
      "cell_type": "code",
      "source": [
        "x = df.product_id"
      ],
      "metadata": {
        "id": "cNdyx0e1ssJ-"
      },
      "execution_count": null,
      "outputs": []
    },
    {
      "cell_type": "code",
      "source": [
        "y = vectors.todense()"
      ],
      "metadata": {
        "id": "yJJopVYztGWi"
      },
      "execution_count": null,
      "outputs": []
    },
    {
      "cell_type": "code",
      "source": [
        "#Add vectors to the dataset\n",
        "import numpy as np\n",
        "df['vectors'] = [y[i] for i in range(10000)]"
      ],
      "metadata": {
        "id": "jCWbreketvhM"
      },
      "execution_count": null,
      "outputs": []
    },
    {
      "cell_type": "code",
      "source": [
        "df.head()"
      ],
      "metadata": {
        "colab": {
          "base_uri": "https://localhost:8080/",
          "height": 206
        },
        "id": "vmasgTCHI93J",
        "outputId": "8612844a-f544-475b-92c4-e34e613c93db"
      },
      "execution_count": null,
      "outputs": [
        {
          "output_type": "execute_result",
          "data": {
            "text/plain": [
              "   Unnamed: 0  Unnamed: 0.1                    product  \\\n",
              "0           0             0                  Strap top   \n",
              "1           1             1              Strap top (1)   \n",
              "2           2             2          OP T-shirt (Idro)   \n",
              "3           3             3        20 den 1p Stockings   \n",
              "4           4             4  Shape Up 30 den 1p Tights   \n",
              "\n",
              "                                                desc  product_id  \\\n",
              "0  solid jersey basic basic everyday woman should...           1   \n",
              "1  stripe jersey basic basic everyday woman shoul...           2   \n",
              "2  solid clean lingerie woman lingerie visible mi...           3   \n",
              "3  solid tights basic tigh sock nightwear woman w...           4   \n",
              "4  solid tights basic tigh sock nightwear woman a...           5   \n",
              "\n",
              "                                             vectors  \n",
              "0  [[[[[0.         0.         0.         0.      ...  \n",
              "1  [[[[[0.         0.         0.         0.      ...  \n",
              "2  [[[[[0.60479094 0.         0.         0.      ...  \n",
              "3  [[[[[0.         0.         0.         0.      ...  \n",
              "4  [[[[[0.         0.         0.         0.      ...  "
            ],
            "text/html": [
              "\n",
              "  <div id=\"df-021a36d0-0aea-4abc-a7c5-775c0292aa3d\">\n",
              "    <div class=\"colab-df-container\">\n",
              "      <div>\n",
              "<style scoped>\n",
              "    .dataframe tbody tr th:only-of-type {\n",
              "        vertical-align: middle;\n",
              "    }\n",
              "\n",
              "    .dataframe tbody tr th {\n",
              "        vertical-align: top;\n",
              "    }\n",
              "\n",
              "    .dataframe thead th {\n",
              "        text-align: right;\n",
              "    }\n",
              "</style>\n",
              "<table border=\"1\" class=\"dataframe\">\n",
              "  <thead>\n",
              "    <tr style=\"text-align: right;\">\n",
              "      <th></th>\n",
              "      <th>Unnamed: 0</th>\n",
              "      <th>Unnamed: 0.1</th>\n",
              "      <th>product</th>\n",
              "      <th>desc</th>\n",
              "      <th>product_id</th>\n",
              "      <th>vectors</th>\n",
              "    </tr>\n",
              "  </thead>\n",
              "  <tbody>\n",
              "    <tr>\n",
              "      <th>0</th>\n",
              "      <td>0</td>\n",
              "      <td>0</td>\n",
              "      <td>Strap top</td>\n",
              "      <td>solid jersey basic basic everyday woman should...</td>\n",
              "      <td>1</td>\n",
              "      <td>[[[[[0.         0.         0.         0.      ...</td>\n",
              "    </tr>\n",
              "    <tr>\n",
              "      <th>1</th>\n",
              "      <td>1</td>\n",
              "      <td>1</td>\n",
              "      <td>Strap top (1)</td>\n",
              "      <td>stripe jersey basic basic everyday woman shoul...</td>\n",
              "      <td>2</td>\n",
              "      <td>[[[[[0.         0.         0.         0.      ...</td>\n",
              "    </tr>\n",
              "    <tr>\n",
              "      <th>2</th>\n",
              "      <td>2</td>\n",
              "      <td>2</td>\n",
              "      <td>OP T-shirt (Idro)</td>\n",
              "      <td>solid clean lingerie woman lingerie visible mi...</td>\n",
              "      <td>3</td>\n",
              "      <td>[[[[[0.60479094 0.         0.         0.      ...</td>\n",
              "    </tr>\n",
              "    <tr>\n",
              "      <th>3</th>\n",
              "      <td>3</td>\n",
              "      <td>3</td>\n",
              "      <td>20 den 1p Stockings</td>\n",
              "      <td>solid tights basic tigh sock nightwear woman w...</td>\n",
              "      <td>4</td>\n",
              "      <td>[[[[[0.         0.         0.         0.      ...</td>\n",
              "    </tr>\n",
              "    <tr>\n",
              "      <th>4</th>\n",
              "      <td>4</td>\n",
              "      <td>4</td>\n",
              "      <td>Shape Up 30 den 1p Tights</td>\n",
              "      <td>solid tights basic tigh sock nightwear woman a...</td>\n",
              "      <td>5</td>\n",
              "      <td>[[[[[0.         0.         0.         0.      ...</td>\n",
              "    </tr>\n",
              "  </tbody>\n",
              "</table>\n",
              "</div>\n",
              "      <button class=\"colab-df-convert\" onclick=\"convertToInteractive('df-021a36d0-0aea-4abc-a7c5-775c0292aa3d')\"\n",
              "              title=\"Convert this dataframe to an interactive table.\"\n",
              "              style=\"display:none;\">\n",
              "        \n",
              "  <svg xmlns=\"http://www.w3.org/2000/svg\" height=\"24px\"viewBox=\"0 0 24 24\"\n",
              "       width=\"24px\">\n",
              "    <path d=\"M0 0h24v24H0V0z\" fill=\"none\"/>\n",
              "    <path d=\"M18.56 5.44l.94 2.06.94-2.06 2.06-.94-2.06-.94-.94-2.06-.94 2.06-2.06.94zm-11 1L8.5 8.5l.94-2.06 2.06-.94-2.06-.94L8.5 2.5l-.94 2.06-2.06.94zm10 10l.94 2.06.94-2.06 2.06-.94-2.06-.94-.94-2.06-.94 2.06-2.06.94z\"/><path d=\"M17.41 7.96l-1.37-1.37c-.4-.4-.92-.59-1.43-.59-.52 0-1.04.2-1.43.59L10.3 9.45l-7.72 7.72c-.78.78-.78 2.05 0 2.83L4 21.41c.39.39.9.59 1.41.59.51 0 1.02-.2 1.41-.59l7.78-7.78 2.81-2.81c.8-.78.8-2.07 0-2.86zM5.41 20L4 18.59l7.72-7.72 1.47 1.35L5.41 20z\"/>\n",
              "  </svg>\n",
              "      </button>\n",
              "      \n",
              "  <style>\n",
              "    .colab-df-container {\n",
              "      display:flex;\n",
              "      flex-wrap:wrap;\n",
              "      gap: 12px;\n",
              "    }\n",
              "\n",
              "    .colab-df-convert {\n",
              "      background-color: #E8F0FE;\n",
              "      border: none;\n",
              "      border-radius: 50%;\n",
              "      cursor: pointer;\n",
              "      display: none;\n",
              "      fill: #1967D2;\n",
              "      height: 32px;\n",
              "      padding: 0 0 0 0;\n",
              "      width: 32px;\n",
              "    }\n",
              "\n",
              "    .colab-df-convert:hover {\n",
              "      background-color: #E2EBFA;\n",
              "      box-shadow: 0px 1px 2px rgba(60, 64, 67, 0.3), 0px 1px 3px 1px rgba(60, 64, 67, 0.15);\n",
              "      fill: #174EA6;\n",
              "    }\n",
              "\n",
              "    [theme=dark] .colab-df-convert {\n",
              "      background-color: #3B4455;\n",
              "      fill: #D2E3FC;\n",
              "    }\n",
              "\n",
              "    [theme=dark] .colab-df-convert:hover {\n",
              "      background-color: #434B5C;\n",
              "      box-shadow: 0px 1px 3px 1px rgba(0, 0, 0, 0.15);\n",
              "      filter: drop-shadow(0px 1px 2px rgba(0, 0, 0, 0.3));\n",
              "      fill: #FFFFFF;\n",
              "    }\n",
              "  </style>\n",
              "\n",
              "      <script>\n",
              "        const buttonEl =\n",
              "          document.querySelector('#df-021a36d0-0aea-4abc-a7c5-775c0292aa3d button.colab-df-convert');\n",
              "        buttonEl.style.display =\n",
              "          google.colab.kernel.accessAllowed ? 'block' : 'none';\n",
              "\n",
              "        async function convertToInteractive(key) {\n",
              "          const element = document.querySelector('#df-021a36d0-0aea-4abc-a7c5-775c0292aa3d');\n",
              "          const dataTable =\n",
              "            await google.colab.kernel.invokeFunction('convertToInteractive',\n",
              "                                                     [key], {});\n",
              "          if (!dataTable) return;\n",
              "\n",
              "          const docLinkHtml = 'Like what you see? Visit the ' +\n",
              "            '<a target=\"_blank\" href=https://colab.research.google.com/notebooks/data_table.ipynb>data table notebook</a>'\n",
              "            + ' to learn more about interactive tables.';\n",
              "          element.innerHTML = '';\n",
              "          dataTable['output_type'] = 'display_data';\n",
              "          await google.colab.output.renderOutput(dataTable, element);\n",
              "          const docLink = document.createElement('div');\n",
              "          docLink.innerHTML = docLinkHtml;\n",
              "          element.appendChild(docLink);\n",
              "        }\n",
              "      </script>\n",
              "    </div>\n",
              "  </div>\n",
              "  "
            ]
          },
          "metadata": {},
          "execution_count": 10
        }
      ]
    },
    {
      "cell_type": "code",
      "source": [
        "#Calculate cosine similarity score for the vectors.\n",
        "from sklearn.metrics.pairwise import cosine_similarity\n",
        "cs =cosine_similarity(vectors)\n",
        "cs.shape"
      ],
      "metadata": {
        "colab": {
          "base_uri": "https://localhost:8080/"
        },
        "id": "C7WTNksv4ZyH",
        "outputId": "907aee59-f9bd-4396-b0af-a51abee695e2"
      },
      "execution_count": null,
      "outputs": [
        {
          "output_type": "execute_result",
          "data": {
            "text/plain": [
              "(10000, 10000)"
            ]
          },
          "metadata": {},
          "execution_count": 11
        }
      ]
    },
    {
      "cell_type": "code",
      "source": [
        "def get_index_from_query(query):\n",
        "    return df[df['product'] == query]['product_id'].values[0]\n",
        "product_index = get_index_from_query(\"ROMY 2p\")\n"
      ],
      "metadata": {
        "id": "3qRnmQZ732KB"
      },
      "execution_count": null,
      "outputs": []
    },
    {
      "cell_type": "code",
      "source": [
        "similar_items = list(enumerate(cs[product_index]))"
      ],
      "metadata": {
        "id": "mKffX8gK32Ol"
      },
      "execution_count": null,
      "outputs": []
    },
    {
      "cell_type": "code",
      "source": [
        "sorted_similar_items = sorted(similar_items, key=lambda x:x[1], reverse=True)"
      ],
      "metadata": {
        "id": "abndP1do8fkC"
      },
      "execution_count": null,
      "outputs": []
    },
    {
      "cell_type": "code",
      "source": [
        "#Get recommendations based on Tf-idf vectorization and cosine similarity score.\n",
        "def get_product_from_index(index):\n",
        "    return df[df['product_id'] == index]['product'].values[0]\n",
        "i=0\n",
        "for product in sorted_similar_items:\n",
        "    print(get_product_from_index(product[0]))\n",
        "    i=i+1\n",
        "    if i>5:\n",
        "        break"
      ],
      "metadata": {
        "colab": {
          "base_uri": "https://localhost:8080/"
        },
        "id": "YhI0xgxW8q8K",
        "outputId": "d4f2b985-33b1-4c8c-a189-8809ab945f78"
      },
      "execution_count": null,
      "outputs": [
        {
          "output_type": "stream",
          "name": "stdout",
          "text": [
            "Strap top\n",
            "Polly 3p minishaftless\n",
            "ROMY 2p\n",
            "Polly Top\n",
            "SPEED Paprika LS\n",
            "MIR cashmere/cotton trousers\n"
          ]
        }
      ]
    }
  ]
}